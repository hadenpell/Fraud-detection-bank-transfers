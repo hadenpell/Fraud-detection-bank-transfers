{
 "cells": [
  {
   "cell_type": "code",
   "execution_count": 9,
   "id": "4ff0a58d-65ff-4bc4-bfca-604131584c7a",
   "metadata": {},
   "outputs": [],
   "source": [
    "import pymongo\n",
    "import pickle\n",
    "import pandas as pd\n",
    "from ipywidgets import widgets"
   ]
  },
  {
   "cell_type": "markdown",
   "id": "a224538d-6cb4-4bc4-9881-b8bcbedde00d",
   "metadata": {},
   "source": [
    "## Reading in Model from Pickle File"
   ]
  },
  {
   "cell_type": "markdown",
   "id": "20567532-fbe4-44d5-aafb-8aaf3c2d82bb",
   "metadata": {},
   "source": [
    "## Functions to query database"
   ]
  },
  {
   "cell_type": "code",
   "execution_count": 10,
   "id": "32cc30cd-a83d-46d6-8abf-eadd685e28ae",
   "metadata": {},
   "outputs": [],
   "source": [
    "# Create client and load in Fraud database\n",
    "client = pymongo.MongoClient()\n",
    "db = client[\"Fraud\"]\n",
    "fraud_data = db[\"FraudData\"]"
   ]
  },
  {
   "cell_type": "code",
   "execution_count": 11,
   "id": "5ee90c8e-2387-4dd6-bfe4-c3bc3a367e60",
   "metadata": {},
   "outputs": [],
   "source": [
    "def account_exists(account_name: str) -> bool:\n",
    "    \"\"\"\n",
    "    Determine whether the given account exists in the database\n",
    "    \n",
    "    :param account_name: Name of the account in question\n",
    "    :returns: Whether or not account exists in database\n",
    "    \"\"\"\n",
    "    orig_account = fraud_data.find_one({\"nameOrig\": account_name})\n",
    "    dest_account = fraud_data.find_one({\"nameDest\": account_name})\n",
    "    \n",
    "    return orig_account is not None or dest_account is not None"
   ]
  },
  {
   "cell_type": "code",
   "execution_count": 12,
   "id": "68ef6484-3cc7-459d-8d70-5cb3cf9ae1bb",
   "metadata": {},
   "outputs": [],
   "source": [
    "def get_account_balance(account_name: str) -> float:\n",
    "    \"\"\"\n",
    "    Retrieve most recent final account balance for this account\n",
    "    \n",
    "    :param account_name: Name of the account in question\n",
    "    :returns: Most recent account balance\n",
    "    \"\"\"\n",
    "    all_trans = fraud_data.find({\n",
    "        \"$or\": [{\"nameOrig\": account_name}, {\"nameDest\": account_name}]\n",
    "    })\n",
    "    all_trans = list(all_trans)\n",
    "    \n",
    "    # Return None if no prior transactions for this account\n",
    "    if len(all_trans) == 0:\n",
    "        return None\n",
    "    # If account was an origin in most recent transaction, return balance after transaction\n",
    "    elif all_trans[-1][\"nameOrig\"] == account_name:\n",
    "        return all_trans[-1][\"newbalanceOrig\"]\n",
    "    # Account was destination in most recent transaction, return balance after transaction\n",
    "    else:\n",
    "        return all_trans[-1][\"newbalanceDest\"]"
   ]
  },
  {
   "cell_type": "markdown",
   "id": "00997b37-812d-4b80-a7ee-04d08c8eb89f",
   "metadata": {},
   "source": [
    "## Function to predict whether transaction is fraudulent"
   ]
  },
  {
   "cell_type": "code",
   "execution_count": 13,
   "id": "71fc15ce-a5b0-49ea-9839-f91968264bd6",
   "metadata": {},
   "outputs": [],
   "source": [
    "def predict_fraud(trans: dict) -> int:\n",
    "    \"\"\"\n",
    "    Predict whether the given transaction is fraudulent\n",
    "    \n",
    "    :param trans: Transaction to predict\n",
    "    :returns: 1 if fraudulent, 0 if not\n",
    "    \"\"\"\n",
    "    # Load model\n",
    "    filename = 'DTFraudModel'\n",
    "    loaded_model = pickle.load(open(filename, 'rb'))\n",
    "    \n",
    "    # These transactions cannot be fraudulent\n",
    "    if trans[\"type\"] in [\"CASH_IN\", \"DEBIT\", \"PAYMENT\"]:\n",
    "        return 0\n",
    "\n",
    "    features = [1 if trans[\"type\"] == \"TRANSFER\" else 0, trans['amount'],trans['oldbalanceOrg'], \\\n",
    "                trans['newbalanceOrig'], trans['oldbalanceDest'], trans['newbalanceDest']]\n",
    "    \n",
    "    # Try to predict if transactional is fraudulent\n",
    "    try:\n",
    "        return loaded_model.predict([features])\n",
    "    # Features contain a null value\n",
    "    except ValueError:\n",
    "        return 0\n",
    "    \n",
    "      "
   ]
  },
  {
   "cell_type": "markdown",
   "id": "4f9a4b0b-7780-41c5-8960-ef7d1e38b13b",
   "metadata": {},
   "source": [
    "### Function to load transaction into database"
   ]
  },
  {
   "cell_type": "code",
   "execution_count": 14,
   "id": "3c3e3e4a-899c-46b4-884e-403926f26668",
   "metadata": {},
   "outputs": [],
   "source": [
    "def insert_transaction(trans_type: str, amount: float, orig_account_name: str, dest_account_name: str) -> dict:\n",
    "    \"\"\"\n",
    "    Attempt to insert the given transaction into the database, predicting whether it is fraud or not\n",
    "    \n",
    "    :amount float: Transaction amount\n",
    "    :param trans_type: Type of the transaction\n",
    "    :param orig_account_name: Account name of transaction origin\n",
    "    :param dest_account_name: Account name of transaction destination\n",
    "    :returns: Dictionary of transaction detaila\n",
    "    \"\"\"\n",
    "    # Ensure it is a valid transaction type\n",
    "    if trans_type not in [\"CASH_IN\", \"CASH_OUT\", \"DEBIT\", \"PAYMENT\", \"TRANSFER\"]:\n",
    "        raise ValueError(f\"Invalid transaction type: {trans_type}\")\n",
    "    # Ensure it is a valid origin account\n",
    "    if not account_exists(orig_account_name):\n",
    "        raise ValueError(f\"Account non-existent: {orig_account_name}\")\n",
    "    # Ensure it is a valid destination account\n",
    "    if not account_exists(dest_account_name):\n",
    "        raise ValueError(f\"Account non-existent: {dest_account_name}\")\n",
    "    \n",
    "    # Increase account balance if putting cash in\n",
    "    if trans_type == \"CASH_IN\":\n",
    "        amount *= -1\n",
    "    \n",
    "    \n",
    "    old_bal_orig = get_account_balance(orig_account_name)\n",
    "    old_bal_dest = get_account_balance(dest_account_name)\n",
    "    \n",
    "    new_transaction = {'step': 1,\n",
    "                       'type': trans_type,\n",
    "                       'amount': amount,\n",
    "                       'nameOrig': orig_account_name,\n",
    "                       'oldbalanceOrg': old_bal_orig,\n",
    "                       'newbalanceOrig': old_bal_orig - amount if old_bal_orig else None,\n",
    "                       'nameDest': dest_account_name,\n",
    "                       'oldbalanceDest': old_bal_dest,\n",
    "                       'newbalanceDest': old_bal_dest + amount if old_bal_dest else None,\n",
    "                       'isFlaggedFraud': 1 if trans_type in [\"CASH_OUT\", \"TRANSFER\"] and amount >= 200000 else 0}\n",
    "    \n",
    "    # Predict whether transaction is fraudulent\n",
    "    new_transaction[\"isFraud\"] = predict_fraud(new_transaction)\n",
    "    \n",
    "    transaction_id = fraud_data.insert_one(new_transaction)\n",
    "    \n",
    "    return new_transaction"
   ]
  },
  {
   "cell_type": "markdown",
   "id": "d99f010b-469f-4d01-b56d-8fe413f2876b",
   "metadata": {},
   "source": [
    "# Interactive Widgets"
   ]
  },
  {
   "cell_type": "markdown",
   "id": "c286e11f-650a-4e51-9cc6-5be7cf11d425",
   "metadata": {},
   "source": [
    "## Retrieving Account Balance"
   ]
  },
  {
   "cell_type": "code",
   "execution_count": 15,
   "id": "d85f39d3-1f37-43af-96fe-02fd7f9da3f6",
   "metadata": {},
   "outputs": [
    {
     "data": {
      "application/vnd.jupyter.widget-view+json": {
       "model_id": "d88d656b0e924f68ab35739edbe81dbd",
       "version_major": 2,
       "version_minor": 0
      },
      "text/plain": [
       "Label(value='Account Name:')"
      ]
     },
     "metadata": {},
     "output_type": "display_data"
    },
    {
     "data": {
      "application/vnd.jupyter.widget-view+json": {
       "model_id": "d36efd103b174ecda8c0698481dcb932",
       "version_major": 2,
       "version_minor": 0
      },
      "text/plain": [
       "Text(value='')"
      ]
     },
     "metadata": {},
     "output_type": "display_data"
    },
    {
     "data": {
      "application/vnd.jupyter.widget-view+json": {
       "model_id": "3b643093b32347be8c803666769c8e5f",
       "version_major": 2,
       "version_minor": 0
      },
      "text/plain": [
       "Button(description='Retrieve Balance', style=ButtonStyle())"
      ]
     },
     "metadata": {},
     "output_type": "display_data"
    },
    {
     "data": {
      "application/vnd.jupyter.widget-view+json": {
       "model_id": "0ddb7925b1684498ac6123a19de9a17f",
       "version_major": 2,
       "version_minor": 0
      },
      "text/plain": [
       "Label(value='')"
      ]
     },
     "metadata": {},
     "output_type": "display_data"
    }
   ],
   "source": [
    "# Create the labels, text box, and button\n",
    "account_label = widgets.Label(\"Account Name:\")\n",
    "account_text = widgets.Text()\n",
    "balance_button = widgets.Button(description=\"Retrieve Balance\")\n",
    "balance_label = widgets.Label()\n",
    "\n",
    "# Display widgets\n",
    "display(account_label)\n",
    "display(account_text)\n",
    "display(balance_button)\n",
    "display(balance_label)\n",
    "\n",
    "def update_balance(button: widgets.widget_button.Button) -> None:\n",
    "    \"\"\"\n",
    "    Update the account balance based off the given account\n",
    "    \n",
    "    :param button: Button that was clicked\n",
    "    \"\"\"\n",
    "    # Retrieve account name of entered account\n",
    "    acccount_name = account_text.value\n",
    "    \n",
    "    # Check if the account exists\n",
    "    if account_exists(acccount_name):\n",
    "        # Retrieve balance and set label value as balance\n",
    "        account_balance = get_account_balance(account_text.value)\n",
    "        balance_label.value = f\"ACCOUNT BALANCE: ${account_balance}\"\n",
    "    else:\n",
    "        balance_label.value = f\"ACCOUNT NOT FOUND: {account_text.value}\"\n",
    "\n",
    "# Attach the update balance function to the button\n",
    "balance_button.on_click(update_balance)"
   ]
  },
  {
   "cell_type": "markdown",
   "id": "f6d16855-f430-48eb-8076-a1f558d115bd",
   "metadata": {},
   "source": [
    "## Inserting New Transaction"
   ]
  },
  {
   "cell_type": "code",
   "execution_count": 17,
   "id": "5173e0b2-098b-47cf-957a-7e6217cc8248",
   "metadata": {},
   "outputs": [
    {
     "ename": "InvalidDocument",
     "evalue": "cannot encode object: array([0]), of type: <class 'numpy.ndarray'>",
     "output_type": "error",
     "traceback": [
      "\u001b[0;31m---------------------------------------------------------------------------\u001b[0m",
      "\u001b[0;31mInvalidDocument\u001b[0m                           Traceback (most recent call last)",
      "Input \u001b[0;32mIn [16]\u001b[0m, in \u001b[0;36mupdate_trans\u001b[0;34m(button)\u001b[0m\n\u001b[1;32m     37\u001b[0m \u001b[38;5;28;01melif\u001b[39;00m \u001b[38;5;129;01mnot\u001b[39;00m account_exists(dest_account_text\u001b[38;5;241m.\u001b[39mvalue):\n\u001b[1;32m     38\u001b[0m     trans_status\u001b[38;5;241m.\u001b[39mvalue \u001b[38;5;241m=\u001b[39m \u001b[38;5;124mf\u001b[39m\u001b[38;5;124m\"\u001b[39m\u001b[38;5;124mACCOUNT NOT FOUND: \u001b[39m\u001b[38;5;132;01m{\u001b[39;00mdest_account_text\u001b[38;5;241m.\u001b[39mvalue\u001b[38;5;132;01m}\u001b[39;00m\u001b[38;5;124m\"\u001b[39m\n\u001b[0;32m---> 40\u001b[0m trans \u001b[38;5;241m=\u001b[39m \u001b[43minsert_transaction\u001b[49m\u001b[43m(\u001b[49m\u001b[43mtrans_type_dropdown\u001b[49m\u001b[38;5;241;43m.\u001b[39;49m\u001b[43mvalue\u001b[49m\u001b[43m,\u001b[49m\u001b[43m \u001b[49m\n\u001b[1;32m     41\u001b[0m \u001b[43m                           \u001b[49m\u001b[43mamount_input\u001b[49m\u001b[38;5;241;43m.\u001b[39;49m\u001b[43mvalue\u001b[49m\u001b[43m,\u001b[49m\u001b[43m \u001b[49m\n\u001b[1;32m     42\u001b[0m \u001b[43m                           \u001b[49m\u001b[43morig_account_text\u001b[49m\u001b[38;5;241;43m.\u001b[39;49m\u001b[43mvalue\u001b[49m\u001b[43m,\u001b[49m\u001b[43m \u001b[49m\n\u001b[1;32m     43\u001b[0m \u001b[43m                           \u001b[49m\u001b[43mdest_account_text\u001b[49m\u001b[38;5;241;43m.\u001b[39;49m\u001b[43mvalue\u001b[49m\u001b[43m)\u001b[49m\n\u001b[1;32m     44\u001b[0m fraud_per \u001b[38;5;241m=\u001b[39m trans[\u001b[38;5;124m\"\u001b[39m\u001b[38;5;124misFraud\u001b[39m\u001b[38;5;124m\"\u001b[39m]\u001b[38;5;241m*\u001b[39m\u001b[38;5;241m100\u001b[39m\n\u001b[1;32m     46\u001b[0m trans_status\u001b[38;5;241m.\u001b[39mvalue \u001b[38;5;241m=\u001b[39m \u001b[38;5;124mf\u001b[39m\u001b[38;5;124m\"\u001b[39m\u001b[38;5;124mTRANSACTION CONFIRMED (\u001b[39m\u001b[38;5;132;01m{\u001b[39;00mfraud_per\u001b[38;5;132;01m}\u001b[39;00m\u001b[38;5;124m% Fraud)\u001b[39m\u001b[38;5;124m\"\u001b[39m\n",
      "Input \u001b[0;32mIn [14]\u001b[0m, in \u001b[0;36minsert_transaction\u001b[0;34m(trans_type, amount, orig_account_name, dest_account_name)\u001b[0m\n\u001b[1;32m     40\u001b[0m \u001b[38;5;66;03m# Predict whether transaction is fraudulent\u001b[39;00m\n\u001b[1;32m     41\u001b[0m new_transaction[\u001b[38;5;124m\"\u001b[39m\u001b[38;5;124misFraud\u001b[39m\u001b[38;5;124m\"\u001b[39m] \u001b[38;5;241m=\u001b[39m predict_fraud(new_transaction)\n\u001b[0;32m---> 43\u001b[0m transaction_id \u001b[38;5;241m=\u001b[39m \u001b[43mfraud_data\u001b[49m\u001b[38;5;241;43m.\u001b[39;49m\u001b[43minsert_one\u001b[49m\u001b[43m(\u001b[49m\u001b[43mnew_transaction\u001b[49m\u001b[43m)\u001b[49m\n\u001b[1;32m     45\u001b[0m \u001b[38;5;28;01mreturn\u001b[39;00m new_transaction\n",
      "File \u001b[0;32m/Library/Frameworks/Python.framework/Versions/3.10/lib/python3.10/site-packages/pymongo/collection.py:542\u001b[0m, in \u001b[0;36mCollection.insert_one\u001b[0;34m(self, document, bypass_document_validation, session)\u001b[0m\n\u001b[1;32m    538\u001b[0m     document[\u001b[38;5;124m\"\u001b[39m\u001b[38;5;124m_id\u001b[39m\u001b[38;5;124m\"\u001b[39m] \u001b[38;5;241m=\u001b[39m ObjectId()\n\u001b[1;32m    540\u001b[0m write_concern \u001b[38;5;241m=\u001b[39m \u001b[38;5;28mself\u001b[39m\u001b[38;5;241m.\u001b[39m_write_concern_for(session)\n\u001b[1;32m    541\u001b[0m \u001b[38;5;28;01mreturn\u001b[39;00m InsertOneResult(\n\u001b[0;32m--> 542\u001b[0m     \u001b[38;5;28;43mself\u001b[39;49m\u001b[38;5;241;43m.\u001b[39;49m\u001b[43m_insert_one\u001b[49m\u001b[43m(\u001b[49m\n\u001b[1;32m    543\u001b[0m \u001b[43m        \u001b[49m\u001b[43mdocument\u001b[49m\u001b[43m,\u001b[49m\n\u001b[1;32m    544\u001b[0m \u001b[43m        \u001b[49m\u001b[43mordered\u001b[49m\u001b[38;5;241;43m=\u001b[39;49m\u001b[38;5;28;43;01mTrue\u001b[39;49;00m\u001b[43m,\u001b[49m\n\u001b[1;32m    545\u001b[0m \u001b[43m        \u001b[49m\u001b[43mcheck_keys\u001b[49m\u001b[38;5;241;43m=\u001b[39;49m\u001b[38;5;28;43;01mFalse\u001b[39;49;00m\u001b[43m,\u001b[49m\n\u001b[1;32m    546\u001b[0m \u001b[43m        \u001b[49m\u001b[43mwrite_concern\u001b[49m\u001b[38;5;241;43m=\u001b[39;49m\u001b[43mwrite_concern\u001b[49m\u001b[43m,\u001b[49m\n\u001b[1;32m    547\u001b[0m \u001b[43m        \u001b[49m\u001b[43mop_id\u001b[49m\u001b[38;5;241;43m=\u001b[39;49m\u001b[38;5;28;43;01mNone\u001b[39;49;00m\u001b[43m,\u001b[49m\n\u001b[1;32m    548\u001b[0m \u001b[43m        \u001b[49m\u001b[43mbypass_doc_val\u001b[49m\u001b[38;5;241;43m=\u001b[39;49m\u001b[43mbypass_document_validation\u001b[49m\u001b[43m,\u001b[49m\n\u001b[1;32m    549\u001b[0m \u001b[43m        \u001b[49m\u001b[43msession\u001b[49m\u001b[38;5;241;43m=\u001b[39;49m\u001b[43msession\u001b[49m\u001b[43m,\u001b[49m\n\u001b[1;32m    550\u001b[0m \u001b[43m    \u001b[49m\u001b[43m)\u001b[49m,\n\u001b[1;32m    551\u001b[0m     write_concern\u001b[38;5;241m.\u001b[39macknowledged,\n\u001b[1;32m    552\u001b[0m )\n",
      "File \u001b[0;32m/Library/Frameworks/Python.framework/Versions/3.10/lib/python3.10/site-packages/pymongo/collection.py:494\u001b[0m, in \u001b[0;36mCollection._insert_one\u001b[0;34m(self, doc, ordered, check_keys, write_concern, op_id, bypass_doc_val, session)\u001b[0m\n\u001b[1;32m    481\u001b[0m     result \u001b[38;5;241m=\u001b[39m sock_info\u001b[38;5;241m.\u001b[39mcommand(\n\u001b[1;32m    482\u001b[0m         \u001b[38;5;28mself\u001b[39m\u001b[38;5;241m.\u001b[39m__database\u001b[38;5;241m.\u001b[39mname,\n\u001b[1;32m    483\u001b[0m         command,\n\u001b[0;32m   (...)\u001b[0m\n\u001b[1;32m    489\u001b[0m         retryable_write\u001b[38;5;241m=\u001b[39mretryable_write,\n\u001b[1;32m    490\u001b[0m     )\n\u001b[1;32m    492\u001b[0m     _check_write_command_response(result)\n\u001b[0;32m--> 494\u001b[0m \u001b[38;5;28;43mself\u001b[39;49m\u001b[38;5;241;43m.\u001b[39;49m\u001b[43m__database\u001b[49m\u001b[38;5;241;43m.\u001b[39;49m\u001b[43mclient\u001b[49m\u001b[38;5;241;43m.\u001b[39;49m\u001b[43m_retryable_write\u001b[49m\u001b[43m(\u001b[49m\u001b[43macknowledged\u001b[49m\u001b[43m,\u001b[49m\u001b[43m \u001b[49m\u001b[43m_insert_command\u001b[49m\u001b[43m,\u001b[49m\u001b[43m \u001b[49m\u001b[43msession\u001b[49m\u001b[43m)\u001b[49m\n\u001b[1;32m    496\u001b[0m \u001b[38;5;28;01mif\u001b[39;00m \u001b[38;5;129;01mnot\u001b[39;00m \u001b[38;5;28misinstance\u001b[39m(doc, RawBSONDocument):\n\u001b[1;32m    497\u001b[0m     \u001b[38;5;28;01mreturn\u001b[39;00m doc\u001b[38;5;241m.\u001b[39mget(\u001b[38;5;124m\"\u001b[39m\u001b[38;5;124m_id\u001b[39m\u001b[38;5;124m\"\u001b[39m)\n",
      "File \u001b[0;32m/Library/Frameworks/Python.framework/Versions/3.10/lib/python3.10/site-packages/pymongo/mongo_client.py:1386\u001b[0m, in \u001b[0;36mMongoClient._retryable_write\u001b[0;34m(self, retryable, func, session)\u001b[0m\n\u001b[1;32m   1384\u001b[0m \u001b[38;5;124;03m\"\"\"Internal retryable write helper.\"\"\"\u001b[39;00m\n\u001b[1;32m   1385\u001b[0m \u001b[38;5;28;01mwith\u001b[39;00m \u001b[38;5;28mself\u001b[39m\u001b[38;5;241m.\u001b[39m_tmp_session(session) \u001b[38;5;28;01mas\u001b[39;00m s:\n\u001b[0;32m-> 1386\u001b[0m     \u001b[38;5;28;01mreturn\u001b[39;00m \u001b[38;5;28;43mself\u001b[39;49m\u001b[38;5;241;43m.\u001b[39;49m\u001b[43m_retry_with_session\u001b[49m\u001b[43m(\u001b[49m\u001b[43mretryable\u001b[49m\u001b[43m,\u001b[49m\u001b[43m \u001b[49m\u001b[43mfunc\u001b[49m\u001b[43m,\u001b[49m\u001b[43m \u001b[49m\u001b[43ms\u001b[49m\u001b[43m,\u001b[49m\u001b[43m \u001b[49m\u001b[38;5;28;43;01mNone\u001b[39;49;00m\u001b[43m)\u001b[49m\n",
      "File \u001b[0;32m/Library/Frameworks/Python.framework/Versions/3.10/lib/python3.10/site-packages/pymongo/mongo_client.py:1274\u001b[0m, in \u001b[0;36mMongoClient._retry_with_session\u001b[0;34m(self, retryable, func, session, bulk)\u001b[0m\n\u001b[1;32m   1264\u001b[0m \u001b[38;5;124;03m\"\"\"Execute an operation with at most one consecutive retries\u001b[39;00m\n\u001b[1;32m   1265\u001b[0m \n\u001b[1;32m   1266\u001b[0m \u001b[38;5;124;03mReturns func()'s return value on success. On error retries the same\u001b[39;00m\n\u001b[0;32m   (...)\u001b[0m\n\u001b[1;32m   1269\u001b[0m \u001b[38;5;124;03mRe-raises any exception thrown by func().\u001b[39;00m\n\u001b[1;32m   1270\u001b[0m \u001b[38;5;124;03m\"\"\"\u001b[39;00m\n\u001b[1;32m   1271\u001b[0m retryable \u001b[38;5;241m=\u001b[39m (\n\u001b[1;32m   1272\u001b[0m     retryable \u001b[38;5;129;01mand\u001b[39;00m \u001b[38;5;28mself\u001b[39m\u001b[38;5;241m.\u001b[39moptions\u001b[38;5;241m.\u001b[39mretry_writes \u001b[38;5;129;01mand\u001b[39;00m session \u001b[38;5;129;01mand\u001b[39;00m \u001b[38;5;129;01mnot\u001b[39;00m session\u001b[38;5;241m.\u001b[39min_transaction\n\u001b[1;32m   1273\u001b[0m )\n\u001b[0;32m-> 1274\u001b[0m \u001b[38;5;28;01mreturn\u001b[39;00m \u001b[38;5;28;43mself\u001b[39;49m\u001b[38;5;241;43m.\u001b[39;49m\u001b[43m_retry_internal\u001b[49m\u001b[43m(\u001b[49m\u001b[43mretryable\u001b[49m\u001b[43m,\u001b[49m\u001b[43m \u001b[49m\u001b[43mfunc\u001b[49m\u001b[43m,\u001b[49m\u001b[43m \u001b[49m\u001b[43msession\u001b[49m\u001b[43m,\u001b[49m\u001b[43m \u001b[49m\u001b[43mbulk\u001b[49m\u001b[43m)\u001b[49m\n",
      "File \u001b[0;32m/Library/Frameworks/Python.framework/Versions/3.10/lib/python3.10/site-packages/pymongo/mongo_client.py:1307\u001b[0m, in \u001b[0;36mMongoClient._retry_internal\u001b[0;34m(self, retryable, func, session, bulk)\u001b[0m\n\u001b[1;32m   1305\u001b[0m                 \u001b[38;5;28;01mraise\u001b[39;00m last_error\n\u001b[1;32m   1306\u001b[0m             retryable \u001b[38;5;241m=\u001b[39m \u001b[38;5;28;01mFalse\u001b[39;00m\n\u001b[0;32m-> 1307\u001b[0m         \u001b[38;5;28;01mreturn\u001b[39;00m \u001b[43mfunc\u001b[49m\u001b[43m(\u001b[49m\u001b[43msession\u001b[49m\u001b[43m,\u001b[49m\u001b[43m \u001b[49m\u001b[43msock_info\u001b[49m\u001b[43m,\u001b[49m\u001b[43m \u001b[49m\u001b[43mretryable\u001b[49m\u001b[43m)\u001b[49m\n\u001b[1;32m   1308\u001b[0m \u001b[38;5;28;01mexcept\u001b[39;00m ServerSelectionTimeoutError:\n\u001b[1;32m   1309\u001b[0m     \u001b[38;5;28;01mif\u001b[39;00m is_retrying():\n\u001b[1;32m   1310\u001b[0m         \u001b[38;5;66;03m# The application may think the write was never attempted\u001b[39;00m\n\u001b[1;32m   1311\u001b[0m         \u001b[38;5;66;03m# if we raise ServerSelectionTimeoutError on the retry\u001b[39;00m\n\u001b[1;32m   1312\u001b[0m         \u001b[38;5;66;03m# attempt. Raise the original exception instead.\u001b[39;00m\n",
      "File \u001b[0;32m/Library/Frameworks/Python.framework/Versions/3.10/lib/python3.10/site-packages/pymongo/collection.py:481\u001b[0m, in \u001b[0;36mCollection._insert_one.<locals>._insert_command\u001b[0;34m(session, sock_info, retryable_write)\u001b[0m\n\u001b[1;32m    478\u001b[0m \u001b[38;5;28;01mif\u001b[39;00m bypass_doc_val:\n\u001b[1;32m    479\u001b[0m     command[\u001b[38;5;124m\"\u001b[39m\u001b[38;5;124mbypassDocumentValidation\u001b[39m\u001b[38;5;124m\"\u001b[39m] \u001b[38;5;241m=\u001b[39m \u001b[38;5;28;01mTrue\u001b[39;00m\n\u001b[0;32m--> 481\u001b[0m result \u001b[38;5;241m=\u001b[39m \u001b[43msock_info\u001b[49m\u001b[38;5;241;43m.\u001b[39;49m\u001b[43mcommand\u001b[49m\u001b[43m(\u001b[49m\n\u001b[1;32m    482\u001b[0m \u001b[43m    \u001b[49m\u001b[38;5;28;43mself\u001b[39;49m\u001b[38;5;241;43m.\u001b[39;49m\u001b[43m__database\u001b[49m\u001b[38;5;241;43m.\u001b[39;49m\u001b[43mname\u001b[49m\u001b[43m,\u001b[49m\n\u001b[1;32m    483\u001b[0m \u001b[43m    \u001b[49m\u001b[43mcommand\u001b[49m\u001b[43m,\u001b[49m\n\u001b[1;32m    484\u001b[0m \u001b[43m    \u001b[49m\u001b[43mwrite_concern\u001b[49m\u001b[38;5;241;43m=\u001b[39;49m\u001b[43mwrite_concern\u001b[49m\u001b[43m,\u001b[49m\n\u001b[1;32m    485\u001b[0m \u001b[43m    \u001b[49m\u001b[43mcodec_options\u001b[49m\u001b[38;5;241;43m=\u001b[39;49m\u001b[38;5;28;43mself\u001b[39;49m\u001b[38;5;241;43m.\u001b[39;49m\u001b[43m__write_response_codec_options\u001b[49m\u001b[43m,\u001b[49m\n\u001b[1;32m    486\u001b[0m \u001b[43m    \u001b[49m\u001b[43mcheck_keys\u001b[49m\u001b[38;5;241;43m=\u001b[39;49m\u001b[43mcheck_keys\u001b[49m\u001b[43m,\u001b[49m\n\u001b[1;32m    487\u001b[0m \u001b[43m    \u001b[49m\u001b[43msession\u001b[49m\u001b[38;5;241;43m=\u001b[39;49m\u001b[43msession\u001b[49m\u001b[43m,\u001b[49m\n\u001b[1;32m    488\u001b[0m \u001b[43m    \u001b[49m\u001b[43mclient\u001b[49m\u001b[38;5;241;43m=\u001b[39;49m\u001b[38;5;28;43mself\u001b[39;49m\u001b[38;5;241;43m.\u001b[39;49m\u001b[43m__database\u001b[49m\u001b[38;5;241;43m.\u001b[39;49m\u001b[43mclient\u001b[49m\u001b[43m,\u001b[49m\n\u001b[1;32m    489\u001b[0m \u001b[43m    \u001b[49m\u001b[43mretryable_write\u001b[49m\u001b[38;5;241;43m=\u001b[39;49m\u001b[43mretryable_write\u001b[49m\u001b[43m,\u001b[49m\n\u001b[1;32m    490\u001b[0m \u001b[43m\u001b[49m\u001b[43m)\u001b[49m\n\u001b[1;32m    492\u001b[0m _check_write_command_response(result)\n",
      "File \u001b[0;32m/Library/Frameworks/Python.framework/Versions/3.10/lib/python3.10/site-packages/pymongo/pool.py:771\u001b[0m, in \u001b[0;36mSocketInfo.command\u001b[0;34m(self, dbname, spec, secondary_ok, read_preference, codec_options, check, allowable_errors, check_keys, read_concern, write_concern, parse_write_concern_error, collation, session, client, retryable_write, publish_events, user_fields, exhaust_allowed)\u001b[0m\n\u001b[1;32m    769\u001b[0m \u001b[38;5;66;03m# Catch socket.error, KeyboardInterrupt, etc. and close ourselves.\u001b[39;00m\n\u001b[1;32m    770\u001b[0m \u001b[38;5;28;01mexcept\u001b[39;00m \u001b[38;5;167;01mBaseException\u001b[39;00m \u001b[38;5;28;01mas\u001b[39;00m error:\n\u001b[0;32m--> 771\u001b[0m     \u001b[38;5;28;43mself\u001b[39;49m\u001b[38;5;241;43m.\u001b[39;49m\u001b[43m_raise_connection_failure\u001b[49m\u001b[43m(\u001b[49m\u001b[43merror\u001b[49m\u001b[43m)\u001b[49m\n",
      "File \u001b[0;32m/Library/Frameworks/Python.framework/Versions/3.10/lib/python3.10/site-packages/pymongo/pool.py:742\u001b[0m, in \u001b[0;36mSocketInfo.command\u001b[0;34m(self, dbname, spec, secondary_ok, read_preference, codec_options, check, allowable_errors, check_keys, read_concern, write_concern, parse_write_concern_error, collation, session, client, retryable_write, publish_events, user_fields, exhaust_allowed)\u001b[0m\n\u001b[1;32m    740\u001b[0m     \u001b[38;5;28mself\u001b[39m\u001b[38;5;241m.\u001b[39m_raise_if_not_writable(unacknowledged)\n\u001b[1;32m    741\u001b[0m \u001b[38;5;28;01mtry\u001b[39;00m:\n\u001b[0;32m--> 742\u001b[0m     \u001b[38;5;28;01mreturn\u001b[39;00m \u001b[43mcommand\u001b[49m\u001b[43m(\u001b[49m\n\u001b[1;32m    743\u001b[0m \u001b[43m        \u001b[49m\u001b[38;5;28;43mself\u001b[39;49m\u001b[43m,\u001b[49m\n\u001b[1;32m    744\u001b[0m \u001b[43m        \u001b[49m\u001b[43mdbname\u001b[49m\u001b[43m,\u001b[49m\n\u001b[1;32m    745\u001b[0m \u001b[43m        \u001b[49m\u001b[43mspec\u001b[49m\u001b[43m,\u001b[49m\n\u001b[1;32m    746\u001b[0m \u001b[43m        \u001b[49m\u001b[43msecondary_ok\u001b[49m\u001b[43m,\u001b[49m\n\u001b[1;32m    747\u001b[0m \u001b[43m        \u001b[49m\u001b[38;5;28;43mself\u001b[39;49m\u001b[38;5;241;43m.\u001b[39;49m\u001b[43mis_mongos\u001b[49m\u001b[43m,\u001b[49m\n\u001b[1;32m    748\u001b[0m \u001b[43m        \u001b[49m\u001b[43mread_preference\u001b[49m\u001b[43m,\u001b[49m\n\u001b[1;32m    749\u001b[0m \u001b[43m        \u001b[49m\u001b[43mcodec_options\u001b[49m\u001b[43m,\u001b[49m\n\u001b[1;32m    750\u001b[0m \u001b[43m        \u001b[49m\u001b[43msession\u001b[49m\u001b[43m,\u001b[49m\n\u001b[1;32m    751\u001b[0m \u001b[43m        \u001b[49m\u001b[43mclient\u001b[49m\u001b[43m,\u001b[49m\n\u001b[1;32m    752\u001b[0m \u001b[43m        \u001b[49m\u001b[43mcheck\u001b[49m\u001b[43m,\u001b[49m\n\u001b[1;32m    753\u001b[0m \u001b[43m        \u001b[49m\u001b[43mallowable_errors\u001b[49m\u001b[43m,\u001b[49m\n\u001b[1;32m    754\u001b[0m \u001b[43m        \u001b[49m\u001b[38;5;28;43mself\u001b[39;49m\u001b[38;5;241;43m.\u001b[39;49m\u001b[43maddress\u001b[49m\u001b[43m,\u001b[49m\n\u001b[1;32m    755\u001b[0m \u001b[43m        \u001b[49m\u001b[43mcheck_keys\u001b[49m\u001b[43m,\u001b[49m\n\u001b[1;32m    756\u001b[0m \u001b[43m        \u001b[49m\u001b[43mlisteners\u001b[49m\u001b[43m,\u001b[49m\n\u001b[1;32m    757\u001b[0m \u001b[43m        \u001b[49m\u001b[38;5;28;43mself\u001b[39;49m\u001b[38;5;241;43m.\u001b[39;49m\u001b[43mmax_bson_size\u001b[49m\u001b[43m,\u001b[49m\n\u001b[1;32m    758\u001b[0m \u001b[43m        \u001b[49m\u001b[43mread_concern\u001b[49m\u001b[43m,\u001b[49m\n\u001b[1;32m    759\u001b[0m \u001b[43m        \u001b[49m\u001b[43mparse_write_concern_error\u001b[49m\u001b[38;5;241;43m=\u001b[39;49m\u001b[43mparse_write_concern_error\u001b[49m\u001b[43m,\u001b[49m\n\u001b[1;32m    760\u001b[0m \u001b[43m        \u001b[49m\u001b[43mcollation\u001b[49m\u001b[38;5;241;43m=\u001b[39;49m\u001b[43mcollation\u001b[49m\u001b[43m,\u001b[49m\n\u001b[1;32m    761\u001b[0m \u001b[43m        \u001b[49m\u001b[43mcompression_ctx\u001b[49m\u001b[38;5;241;43m=\u001b[39;49m\u001b[38;5;28;43mself\u001b[39;49m\u001b[38;5;241;43m.\u001b[39;49m\u001b[43mcompression_context\u001b[49m\u001b[43m,\u001b[49m\n\u001b[1;32m    762\u001b[0m \u001b[43m        \u001b[49m\u001b[43muse_op_msg\u001b[49m\u001b[38;5;241;43m=\u001b[39;49m\u001b[38;5;28;43mself\u001b[39;49m\u001b[38;5;241;43m.\u001b[39;49m\u001b[43mop_msg_enabled\u001b[49m\u001b[43m,\u001b[49m\n\u001b[1;32m    763\u001b[0m \u001b[43m        \u001b[49m\u001b[43munacknowledged\u001b[49m\u001b[38;5;241;43m=\u001b[39;49m\u001b[43munacknowledged\u001b[49m\u001b[43m,\u001b[49m\n\u001b[1;32m    764\u001b[0m \u001b[43m        \u001b[49m\u001b[43muser_fields\u001b[49m\u001b[38;5;241;43m=\u001b[39;49m\u001b[43muser_fields\u001b[49m\u001b[43m,\u001b[49m\n\u001b[1;32m    765\u001b[0m \u001b[43m        \u001b[49m\u001b[43mexhaust_allowed\u001b[49m\u001b[38;5;241;43m=\u001b[39;49m\u001b[43mexhaust_allowed\u001b[49m\u001b[43m,\u001b[49m\n\u001b[1;32m    766\u001b[0m \u001b[43m    \u001b[49m\u001b[43m)\u001b[49m\n\u001b[1;32m    767\u001b[0m \u001b[38;5;28;01mexcept\u001b[39;00m (OperationFailure, NotPrimaryError):\n\u001b[1;32m    768\u001b[0m     \u001b[38;5;28;01mraise\u001b[39;00m\n",
      "File \u001b[0;32m/Library/Frameworks/Python.framework/Versions/3.10/lib/python3.10/site-packages/pymongo/network.py:128\u001b[0m, in \u001b[0;36mcommand\u001b[0;34m(sock_info, dbname, spec, secondary_ok, is_mongos, read_preference, codec_options, session, client, check, allowable_errors, address, check_keys, listeners, max_bson_size, read_concern, parse_write_concern_error, collation, compression_ctx, use_op_msg, unacknowledged, user_fields, exhaust_allowed)\u001b[0m\n\u001b[1;32m    126\u001b[0m flags \u001b[38;5;241m=\u001b[39m _OpMsg\u001b[38;5;241m.\u001b[39mMORE_TO_COME \u001b[38;5;28;01mif\u001b[39;00m unacknowledged \u001b[38;5;28;01melse\u001b[39;00m \u001b[38;5;241m0\u001b[39m\n\u001b[1;32m    127\u001b[0m flags \u001b[38;5;241m|\u001b[39m\u001b[38;5;241m=\u001b[39m _OpMsg\u001b[38;5;241m.\u001b[39mEXHAUST_ALLOWED \u001b[38;5;28;01mif\u001b[39;00m exhaust_allowed \u001b[38;5;28;01melse\u001b[39;00m \u001b[38;5;241m0\u001b[39m\n\u001b[0;32m--> 128\u001b[0m request_id, msg, size, max_doc_size \u001b[38;5;241m=\u001b[39m \u001b[43mmessage\u001b[49m\u001b[38;5;241;43m.\u001b[39;49m\u001b[43m_op_msg\u001b[49m\u001b[43m(\u001b[49m\n\u001b[1;32m    129\u001b[0m \u001b[43m    \u001b[49m\u001b[43mflags\u001b[49m\u001b[43m,\u001b[49m\n\u001b[1;32m    130\u001b[0m \u001b[43m    \u001b[49m\u001b[43mspec\u001b[49m\u001b[43m,\u001b[49m\n\u001b[1;32m    131\u001b[0m \u001b[43m    \u001b[49m\u001b[43mdbname\u001b[49m\u001b[43m,\u001b[49m\n\u001b[1;32m    132\u001b[0m \u001b[43m    \u001b[49m\u001b[43mread_preference\u001b[49m\u001b[43m,\u001b[49m\n\u001b[1;32m    133\u001b[0m \u001b[43m    \u001b[49m\u001b[43msecondary_ok\u001b[49m\u001b[43m,\u001b[49m\n\u001b[1;32m    134\u001b[0m \u001b[43m    \u001b[49m\u001b[43mcheck_keys\u001b[49m\u001b[43m,\u001b[49m\n\u001b[1;32m    135\u001b[0m \u001b[43m    \u001b[49m\u001b[43mcodec_options\u001b[49m\u001b[43m,\u001b[49m\n\u001b[1;32m    136\u001b[0m \u001b[43m    \u001b[49m\u001b[43mctx\u001b[49m\u001b[38;5;241;43m=\u001b[39;49m\u001b[43mcompression_ctx\u001b[49m\u001b[43m,\u001b[49m\n\u001b[1;32m    137\u001b[0m \u001b[43m\u001b[49m\u001b[43m)\u001b[49m\n\u001b[1;32m    138\u001b[0m \u001b[38;5;66;03m# If this is an unacknowledged write then make sure the encoded doc(s)\u001b[39;00m\n\u001b[1;32m    139\u001b[0m \u001b[38;5;66;03m# are small enough, otherwise rely on the server to return an error.\u001b[39;00m\n\u001b[1;32m    140\u001b[0m \u001b[38;5;28;01mif\u001b[39;00m unacknowledged \u001b[38;5;129;01mand\u001b[39;00m max_bson_size \u001b[38;5;129;01mis\u001b[39;00m \u001b[38;5;129;01mnot\u001b[39;00m \u001b[38;5;28;01mNone\u001b[39;00m \u001b[38;5;129;01mand\u001b[39;00m max_doc_size \u001b[38;5;241m>\u001b[39m max_bson_size:\n",
      "File \u001b[0;32m/Library/Frameworks/Python.framework/Versions/3.10/lib/python3.10/site-packages/pymongo/message.py:673\u001b[0m, in \u001b[0;36m_op_msg\u001b[0;34m(flags, command, dbname, read_preference, secondary_ok, check_keys, opts, ctx)\u001b[0m\n\u001b[1;32m    671\u001b[0m     \u001b[38;5;28;01mif\u001b[39;00m ctx:\n\u001b[1;32m    672\u001b[0m         \u001b[38;5;28;01mreturn\u001b[39;00m _op_msg_compressed(flags, command, identifier, docs, check_keys, opts, ctx)\n\u001b[0;32m--> 673\u001b[0m     \u001b[38;5;28;01mreturn\u001b[39;00m \u001b[43m_op_msg_uncompressed\u001b[49m\u001b[43m(\u001b[49m\u001b[43mflags\u001b[49m\u001b[43m,\u001b[49m\u001b[43m \u001b[49m\u001b[43mcommand\u001b[49m\u001b[43m,\u001b[49m\u001b[43m \u001b[49m\u001b[43midentifier\u001b[49m\u001b[43m,\u001b[49m\u001b[43m \u001b[49m\u001b[43mdocs\u001b[49m\u001b[43m,\u001b[49m\u001b[43m \u001b[49m\u001b[43mcheck_keys\u001b[49m\u001b[43m,\u001b[49m\u001b[43m \u001b[49m\u001b[43mopts\u001b[49m\u001b[43m)\u001b[49m\n\u001b[1;32m    674\u001b[0m \u001b[38;5;28;01mfinally\u001b[39;00m:\n\u001b[1;32m    675\u001b[0m     \u001b[38;5;66;03m# Add the field back to the command.\u001b[39;00m\n\u001b[1;32m    676\u001b[0m     \u001b[38;5;28;01mif\u001b[39;00m identifier:\n",
      "\u001b[0;31mInvalidDocument\u001b[0m: cannot encode object: array([0]), of type: <class 'numpy.ndarray'>"
     ]
    },
    {
     "data": {
      "application/vnd.jupyter.widget-view+json": {
       "model_id": "bae24fc97aae4411a73ca49122f89360",
       "version_major": 2,
       "version_minor": 0
      },
      "text/plain": [
       "Label(value='Origin Account Name:')"
      ]
     },
     "metadata": {},
     "output_type": "display_data"
    },
    {
     "data": {
      "application/vnd.jupyter.widget-view+json": {
       "model_id": "01cb021ad7854ce785e332a3edb3eab5",
       "version_major": 2,
       "version_minor": 0
      },
      "text/plain": [
       "Text(value='')"
      ]
     },
     "metadata": {},
     "output_type": "display_data"
    },
    {
     "data": {
      "application/vnd.jupyter.widget-view+json": {
       "model_id": "26d3ed6348e4494f973f1cf710a882f6",
       "version_major": 2,
       "version_minor": 0
      },
      "text/plain": [
       "Label(value='Destination Account Name:')"
      ]
     },
     "metadata": {},
     "output_type": "display_data"
    },
    {
     "data": {
      "application/vnd.jupyter.widget-view+json": {
       "model_id": "048a496064a74767bbb0203429933694",
       "version_major": 2,
       "version_minor": 0
      },
      "text/plain": [
       "Text(value='')"
      ]
     },
     "metadata": {},
     "output_type": "display_data"
    },
    {
     "data": {
      "application/vnd.jupyter.widget-view+json": {
       "model_id": "5a69051f79704067b217b8e44de3e7a4",
       "version_major": 2,
       "version_minor": 0
      },
      "text/plain": [
       "Label(value='Transaction Type:')"
      ]
     },
     "metadata": {},
     "output_type": "display_data"
    },
    {
     "data": {
      "application/vnd.jupyter.widget-view+json": {
       "model_id": "065bcdae0dfc49428afe4f7e159aec4a",
       "version_major": 2,
       "version_minor": 0
      },
      "text/plain": [
       "Dropdown(options=(('Transfer', 'TRANSFER'), ('Payment', 'PAYMENT'), ('Debit', 'DEBIT'), ('Cash-Out', 'CASH_OUT…"
      ]
     },
     "metadata": {},
     "output_type": "display_data"
    },
    {
     "data": {
      "application/vnd.jupyter.widget-view+json": {
       "model_id": "f8ea5a67e8b241029e925944da710f41",
       "version_major": 2,
       "version_minor": 0
      },
      "text/plain": [
       "Label(value='Amount:')"
      ]
     },
     "metadata": {},
     "output_type": "display_data"
    },
    {
     "data": {
      "application/vnd.jupyter.widget-view+json": {
       "model_id": "3c66df5a8b6943039ffc64a97cb13346",
       "version_major": 2,
       "version_minor": 0
      },
      "text/plain": [
       "BoundedFloatText(value=0.0, description='$', max=1000000.0)"
      ]
     },
     "metadata": {},
     "output_type": "display_data"
    },
    {
     "data": {
      "application/vnd.jupyter.widget-view+json": {
       "model_id": "ea5a09fb06e94f30ad399848767fc040",
       "version_major": 2,
       "version_minor": 0
      },
      "text/plain": [
       "Button(description='Confirm Transaction', style=ButtonStyle())"
      ]
     },
     "metadata": {},
     "output_type": "display_data"
    },
    {
     "data": {
      "application/vnd.jupyter.widget-view+json": {
       "model_id": "b5a68a806a04408a91d7d11343c8dc49",
       "version_major": 2,
       "version_minor": 0
      },
      "text/plain": [
       "Label(value='')"
      ]
     },
     "metadata": {},
     "output_type": "display_data"
    }
   ],
   "source": [
    "# Create the labels, text boxes, and button\n",
    "orig_account_label = widgets.Label(\"Origin Account Name:\")\n",
    "orig_account_text = widgets.Text()\n",
    "dest_account_label = widgets.Label(\"Destination Account Name:\")\n",
    "dest_account_text = widgets.Text()\n",
    "trans_type_label = widgets.Label(\"Transaction Type:\")\n",
    "trans_type_dropdown = widgets.Dropdown(options=[(\"Transfer\", \"TRANSFER\"),\n",
    "                                               (\"Payment\", \"PAYMENT\"),\n",
    "                                               (\"Debit\", \"DEBIT\"),\n",
    "                                               (\"Cash-Out\", \"CASH_OUT\"),\n",
    "                                               (\"Cash-In\", \"CASH_IN\")])\n",
    "amount_label = widgets.Label(\"Amount:\")\n",
    "amount_input = widgets.BoundedFloatText(description=\"$\", min=0, max=1000000)\n",
    "trans_button = widgets.Button(description=\"Confirm Transaction\")\n",
    "trans_status = widgets.Label()\n",
    "\n",
    "# Display widgets\n",
    "display(orig_account_label)\n",
    "display(orig_account_text)\n",
    "display(dest_account_label)\n",
    "display(dest_account_text)\n",
    "display(trans_type_label)\n",
    "display(trans_type_dropdown)\n",
    "display(amount_label)\n",
    "display(amount_input)\n",
    "display(trans_button)\n",
    "display(trans_status)\n",
    "\n",
    "def update_trans(button: widgets.widget_button.Button) -> None:\n",
    "    \"\"\"\n",
    "    Insert the transaction into database if both account exists, calculating fraud %\n",
    "    \n",
    "    :param button: Button that was clicked\n",
    "    \"\"\"\n",
    "    if not account_exists(orig_account_text.value):\n",
    "        trans_status.value = f\"ACCOUNT NOT FOUND: {orig_account_text.value}\"\n",
    "    elif not account_exists(dest_account_text.value):\n",
    "        trans_status.value = f\"ACCOUNT NOT FOUND: {dest_account_text.value}\"\n",
    "    \n",
    "    trans = insert_transaction(trans_type_dropdown.value, \n",
    "                               amount_input.value, \n",
    "                               orig_account_text.value, \n",
    "                               dest_account_text.value)\n",
    "    fraud_per = trans[\"isFraud\"]*100\n",
    "    \n",
    "    trans_status.value = f\"TRANSACTION CONFIRMED ({fraud_per}% Fraud)\"\n",
    "        \n",
    "    \n",
    "\n",
    "# Attach the update balance function to the button\n",
    "trans_button.on_click(update_trans)"
   ]
  },
  {
   "cell_type": "code",
   "execution_count": null,
   "id": "15ca9b59-efec-4a39-9dd6-8cade66119af",
   "metadata": {},
   "outputs": [],
   "source": []
  }
 ],
 "metadata": {
  "kernelspec": {
   "display_name": "Python 3 (ipykernel)",
   "language": "python",
   "name": "python3"
  },
  "language_info": {
   "codemirror_mode": {
    "name": "ipython",
    "version": 3
   },
   "file_extension": ".py",
   "mimetype": "text/x-python",
   "name": "python",
   "nbconvert_exporter": "python",
   "pygments_lexer": "ipython3",
   "version": "3.10.2"
  }
 },
 "nbformat": 4,
 "nbformat_minor": 5
}
