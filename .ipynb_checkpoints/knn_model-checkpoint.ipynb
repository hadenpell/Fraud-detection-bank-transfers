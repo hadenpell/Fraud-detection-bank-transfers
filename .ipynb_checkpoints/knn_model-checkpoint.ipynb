{
 "cells": [
  {
   "cell_type": "code",
   "execution_count": 35,
   "id": "3866022e",
   "metadata": {},
   "outputs": [],
   "source": [
    "import pandas as pd\n",
    "from sklearn.neighbors import KNeighborsClassifier as KNN\n",
    "import pandas as pd\n",
    "import numpy as np\n",
    "from sklearn.linear_model import LinearRegression, LogisticRegression\n",
    "from sklearn.preprocessing import StandardScaler, OneHotEncoder\n",
    "from sklearn.metrics import r2_score,mean_squared_error,confusion_matrix,classification_report, log_loss, roc_auc_score, roc_curve\n",
    "from sklearn.model_selection import train_test_split"
   ]
  },
  {
   "cell_type": "code",
   "execution_count": 36,
   "id": "392dca67",
   "metadata": {},
   "outputs": [],
   "source": [
    "df = pd.read_csv('Fraud.csv')"
   ]
  },
  {
   "cell_type": "code",
   "execution_count": 37,
   "id": "9220db9f",
   "metadata": {},
   "outputs": [
    {
     "data": {
      "text/plain": [
       "Index(['step', 'type', 'amount', 'nameOrig', 'oldbalanceOrg', 'newbalanceOrig',\n",
       "       'nameDest', 'oldbalanceDest', 'newbalanceDest', 'isFraud',\n",
       "       'isFlaggedFraud'],\n",
       "      dtype='object')"
      ]
     },
     "execution_count": 37,
     "metadata": {},
     "output_type": "execute_result"
    }
   ],
   "source": [
    "df.columns"
   ]
  },
  {
   "cell_type": "code",
   "execution_count": 38,
   "id": "710fb2e1",
   "metadata": {},
   "outputs": [],
   "source": [
    "## Onehot-encode features: type\n",
    "\n",
    "onehot = OneHotEncoder(handle_unknown='ignore')\n",
    "df_onehot = pd.DataFrame(onehot.fit_transform(np.array(df['type']).reshape(-1,1)).toarray())"
   ]
  },
  {
   "cell_type": "code",
   "execution_count": 39,
   "id": "8eaefb1b",
   "metadata": {},
   "outputs": [],
   "source": [
    "df = df.join(df_onehot)"
   ]
  },
  {
   "cell_type": "code",
   "execution_count": 40,
   "id": "22ecb41b",
   "metadata": {},
   "outputs": [],
   "source": [
    "features = ['amount', 'oldbalanceOrg', 'newbalanceOrig','oldbalanceDest', 'newbalanceDest','isFlaggedFraud',0,1,2,3,4]"
   ]
  },
  {
   "cell_type": "code",
   "execution_count": 41,
   "id": "6b9639d1",
   "metadata": {},
   "outputs": [],
   "source": [
    "X = np.array(df[features])\n",
    "y = df['isFraud']"
   ]
  },
  {
   "cell_type": "code",
   "execution_count": 42,
   "id": "b3c23eea",
   "metadata": {},
   "outputs": [],
   "source": [
    "## Scale features\n",
    "scaler = StandardScaler()\n",
    "X = scaler.fit_transform(X)"
   ]
  },
  {
   "cell_type": "code",
   "execution_count": 43,
   "id": "5df68698",
   "metadata": {},
   "outputs": [],
   "source": [
    "#split into train/test set\n",
    "X_train, X_test, y_train, y_test = train_test_split(X,y,random_state=3000)"
   ]
  },
  {
   "cell_type": "code",
   "execution_count": 44,
   "id": "76e5ae27",
   "metadata": {},
   "outputs": [
    {
     "data": {
      "text/plain": [
       "array([[-0.28779102,  0.11955669,  0.10875374, ..., -0.08095965,\n",
       "         1.39903602, -0.30234516],\n",
       "       [-0.25252478, -0.28871645, -0.29244171, ..., -0.08095965,\n",
       "         1.39903602, -0.30234516],\n",
       "       [-0.29124076, -0.22779995, -0.23363699, ..., -0.08095965,\n",
       "         1.39903602, -0.30234516],\n",
       "       ...,\n",
       "       [-0.10807674, -0.28149129, -0.29244171, ..., -0.08095965,\n",
       "        -0.71477788,  3.30747816],\n",
       "       [-0.2970323 , -0.28871645, -0.29244171, ..., -0.08095965,\n",
       "         1.39903602, -0.30234516],\n",
       "       [ 0.08824921, -0.27801028, -0.29244171, ..., -0.08095965,\n",
       "        -0.71477788, -0.30234516]])"
      ]
     },
     "execution_count": 44,
     "metadata": {},
     "output_type": "execute_result"
    }
   ],
   "source": [
    "X_test"
   ]
  },
  {
   "cell_type": "code",
   "execution_count": 71,
   "id": "e68bc075",
   "metadata": {},
   "outputs": [],
   "source": [
    "#model = KNN(n_neighbors=5).fit(X_train,y_train)"
   ]
  },
  {
   "cell_type": "code",
   "execution_count": 75,
   "id": "51d8a1b6",
   "metadata": {},
   "outputs": [],
   "source": [
    "y_true = sample['isFraud']\n",
    "sample = np.array(sample[features])"
   ]
  },
  {
   "cell_type": "code",
   "execution_count": 76,
   "id": "e2ae4e3c",
   "metadata": {},
   "outputs": [],
   "source": [
    "#knn_pred_test = model.predict(sample)"
   ]
  },
  {
   "cell_type": "code",
   "execution_count": 77,
   "id": "31e7d60e",
   "metadata": {},
   "outputs": [],
   "source": [
    "#knn_pred_train = model.predict(X_train)"
   ]
  },
  {
   "cell_type": "code",
   "execution_count": 78,
   "id": "4ac784cb",
   "metadata": {},
   "outputs": [],
   "source": [
    "#knn_pred_test = model.predict(X_test)"
   ]
  },
  {
   "cell_type": "code",
   "execution_count": 79,
   "id": "f615f29b",
   "metadata": {},
   "outputs": [
    {
     "name": "stdout",
     "output_type": "stream",
     "text": [
      "              precision    recall  f1-score   support\n",
      "\n",
      "           0       1.00      0.83      0.91      4994\n",
      "           1       0.00      0.00      0.00         6\n",
      "\n",
      "    accuracy                           0.83      5000\n",
      "   macro avg       0.50      0.41      0.45      5000\n",
      "weighted avg       1.00      0.83      0.90      5000\n",
      "\n"
     ]
    }
   ],
   "source": [
    "print(classification_report(y_true, knn_pred_test))"
   ]
  },
  {
   "cell_type": "code",
   "execution_count": 80,
   "id": "ba19bc45",
   "metadata": {},
   "outputs": [
    {
     "data": {
      "text/plain": [
       "{'precision': 0.9985507246376811,\n",
       " 'recall': 0.8277933520224269,\n",
       " 'f1-score': 0.9051894022334136,\n",
       " 'support': 4994}"
      ]
     },
     "execution_count": 80,
     "metadata": {},
     "output_type": "execute_result"
    }
   ],
   "source": [
    "classification_report(y_true, knn_pred_test,output_dict=True)['0']"
   ]
  },
  {
   "cell_type": "code",
   "execution_count": 81,
   "id": "d7536285",
   "metadata": {},
   "outputs": [
    {
     "data": {
      "text/plain": [
       "{'precision': 0.0, 'recall': 0.0, 'f1-score': 0.0, 'support': 6}"
      ]
     },
     "execution_count": 81,
     "metadata": {},
     "output_type": "execute_result"
    }
   ],
   "source": [
    "classification_report(y_true, knn_pred_test,output_dict=True)['1']"
   ]
  },
  {
   "cell_type": "code",
   "execution_count": 82,
   "id": "6b76a634",
   "metadata": {},
   "outputs": [
    {
     "data": {
      "text/plain": [
       "0.8268"
      ]
     },
     "execution_count": 82,
     "metadata": {},
     "output_type": "execute_result"
    }
   ],
   "source": [
    "classification_report(y_true, knn_pred_test,output_dict=True)['accuracy']"
   ]
  },
  {
   "cell_type": "code",
   "execution_count": 83,
   "id": "bec4f353",
   "metadata": {},
   "outputs": [
    {
     "data": {
      "text/plain": [
       "{'precision': 0.49927536231884057,\n",
       " 'recall': 0.41389667601121344,\n",
       " 'f1-score': 0.4525947011167068,\n",
       " 'support': 5000}"
      ]
     },
     "execution_count": 83,
     "metadata": {},
     "output_type": "execute_result"
    }
   ],
   "source": [
    "classification_report(y_true, knn_pred_test,output_dict=True)['macro avg']"
   ]
  },
  {
   "cell_type": "code",
   "execution_count": 84,
   "id": "ea849cf4",
   "metadata": {},
   "outputs": [
    {
     "data": {
      "text/plain": [
       "{'precision': 0.9973524637681159,\n",
       " 'recall': 0.8268,\n",
       " 'f1-score': 0.9041031749507336,\n",
       " 'support': 5000}"
      ]
     },
     "execution_count": 84,
     "metadata": {},
     "output_type": "execute_result"
    }
   ],
   "source": [
    "classification_report(y_true, knn_pred_test,output_dict=True)['weighted avg']"
   ]
  },
  {
   "cell_type": "code",
   "execution_count": null,
   "id": "ea2df52d",
   "metadata": {},
   "outputs": [],
   "source": []
  }
 ],
 "metadata": {
  "kernelspec": {
   "display_name": "Python 3 (ipykernel)",
   "language": "python",
   "name": "python3"
  },
  "language_info": {
   "codemirror_mode": {
    "name": "ipython",
    "version": 3
   },
   "file_extension": ".py",
   "mimetype": "text/x-python",
   "name": "python",
   "nbconvert_exporter": "python",
   "pygments_lexer": "ipython3",
   "version": "3.10.2"
  }
 },
 "nbformat": 4,
 "nbformat_minor": 5
}
