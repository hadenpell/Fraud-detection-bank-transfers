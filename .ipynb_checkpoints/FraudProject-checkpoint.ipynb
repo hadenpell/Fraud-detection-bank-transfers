{
 "cells": [
  {
   "cell_type": "markdown",
   "id": "95d81ec5",
   "metadata": {},
   "source": [
    "# MongoDB Tutorial"
   ]
  },
  {
   "cell_type": "markdown",
   "id": "0808b95d",
   "metadata": {},
   "source": [
    "## Step 1: Dataset\n",
    "### A rich dataset of Fraudulent Transactions:\n",
    "https://www.kaggle.com/chitwanmanchanda/fraudulent-transactions-data"
   ]
  },
  {
   "cell_type": "markdown",
   "id": "854ef00e",
   "metadata": {},
   "source": [
    "## Step 2: Import Data into Mongo"
   ]
  },
  {
   "cell_type": "code",
   "execution_count": 1,
   "id": "147687d7",
   "metadata": {},
   "outputs": [],
   "source": [
    "import pymongo\n",
    "import pprint\n",
    "import json\n",
    "import warnings\n",
    "import pandas as pd\n",
    "import numpy as np\n",
    "import matplotlib.pyplot as plt\n",
    "import datetime"
   ]
  },
  {
   "cell_type": "code",
   "execution_count": 2,
   "id": "a5b7cab5",
   "metadata": {},
   "outputs": [],
   "source": [
    "# connect to the mongoclient\n",
    "client = pymongo.MongoClient('mongodb://localhost:27017')\n",
    "\n",
    "# get the database\n",
    "database = client['Fraud']"
   ]
  },
  {
   "cell_type": "code",
   "execution_count": 3,
   "id": "f5d712ca",
   "metadata": {},
   "outputs": [
    {
     "data": {
      "text/plain": [
       "Collection(Database(MongoClient(host=['localhost:27017'], document_class=dict, tz_aware=False, connect=True), 'Fraud'), 'FraudData')"
      ]
     },
     "execution_count": 3,
     "metadata": {},
     "output_type": "execute_result"
    }
   ],
   "source": [
    "# create weekly demand collection\n",
    "database.create_collection(\"FraudData\")"
   ]
  },
  {
   "cell_type": "code",
   "execution_count": 4,
   "id": "d0d84823",
   "metadata": {},
   "outputs": [],
   "source": [
    "fraud_collection = database.get_collection(\"FraudData\")"
   ]
  },
  {
   "cell_type": "code",
   "execution_count": null,
   "id": "98fb1274",
   "metadata": {},
   "outputs": [],
   "source": [
    "# Open the Fraud CSV and Convert to JSON\n",
    "\n",
    "import csv \n",
    "import json \n",
    "\n",
    "def csv_to_json(csvFilePath, jsonFilePath):\n",
    "    jsonArray = []\n",
    "      \n",
    "    #read csv file\n",
    "    with open(csvFilePath, encoding='utf-8') as csvf: \n",
    "        #load csv file data using csv library's dictionary reader\n",
    "        csvReader = csv.DictReader(csvf) \n",
    "\n",
    "        #convert each csv row into python dict\n",
    "        for row in csvReader: \n",
    "            #add this python dict to json array\n",
    "            jsonArray.append(row)\n",
    "  \n",
    "    #convert python jsonArray to JSON String and write to file\n",
    "    with open(jsonFilePath, 'w', encoding='utf-8') as jsonf: \n",
    "        jsonString = json.dumps(jsonArray, indent=4)\n",
    "        jsonf.write(jsonString)\n",
    "          \n",
    "csvFilePath = r'/Users/jtfallon/Downloads/Fraud.csv'\n",
    "jsonFilePath = r'/Users/jtfallon/Downloads/fraud_data.json'\n",
    "csv_to_json(csvFilePath, jsonFilePath)\n",
    "\n",
    "\n",
    "\n",
    "# AFTER THIS PART EVERYTHING IS FOR HW # 3 --- still need to finish changing"
   ]
  },
  {
   "cell_type": "markdown",
   "id": "15be12c5",
   "metadata": {},
   "source": [
    "## Step 3: Mongo DB Tutorial"
   ]
  },
  {
   "cell_type": "markdown",
   "id": "1bd0f248",
   "metadata": {},
   "source": [
    "#### Q1. How many Walmarts are in the data set?\n",
    "This query counts the number of documents in the walmart collection,\n",
    "effectively returning the number of Walmarts in it."
   ]
  },
  {
   "cell_type": "code",
   "execution_count": 7,
   "id": "cbba220b",
   "metadata": {},
   "outputs": [
    {
     "data": {
      "text/plain": [
       "5821"
      ]
     },
     "execution_count": 7,
     "metadata": {},
     "output_type": "execute_result"
    }
   ],
   "source": [
    "walmart_collection.count_documents({})"
   ]
  },
  {
   "cell_type": "markdown",
   "id": "8e99e6f5",
   "metadata": {},
   "source": [
    "#### Q2. How many Walmarts are there in Massachusetts? Boston?"
   ]
  },
  {
   "cell_type": "code",
   "execution_count": 8,
   "id": "ce7a2225",
   "metadata": {},
   "outputs": [
    {
     "data": {
      "text/plain": [
       "63"
      ]
     },
     "execution_count": 8,
     "metadata": {},
     "output_type": "execute_result"
    }
   ],
   "source": [
    "result_1 = walmart_collection.find({\n",
    "    \"state\" : { \"$eq\" : \"MA\"}\n",
    "})\n",
    "\n",
    "ma_walmarts = []\n",
    "for i in result_1:\n",
    "    ma_walmarts.append(i)\n",
    "    \n",
    "len(ma_walmarts)"
   ]
  },
  {
   "cell_type": "markdown",
   "id": "249734e6",
   "metadata": {},
   "source": [
    "#### Answer: There are 63 Walmarts in Massachusetts."
   ]
  },
  {
   "cell_type": "code",
   "execution_count": 9,
   "id": "372f989c",
   "metadata": {},
   "outputs": [
    {
     "data": {
      "text/plain": [
       "2"
      ]
     },
     "execution_count": 9,
     "metadata": {},
     "output_type": "execute_result"
    }
   ],
   "source": [
    "result_2 = walmart_collection.find({\n",
    "    \"city\" : { \"$eq\" : \"Boston\"}\n",
    "})\n",
    "\n",
    "bos_walmarts = []\n",
    "for i in result_2:\n",
    "    bos_walmarts.append(i)\n",
    "\n",
    "len(bos_walmarts)"
   ]
  },
  {
   "cell_type": "markdown",
   "id": "8bf6e930",
   "metadata": {},
   "source": [
    "#### Answer: There are 2 Walmarts in Boston"
   ]
  },
  {
   "cell_type": "markdown",
   "id": "e65ac923",
   "metadata": {},
   "source": [
    "#### Q3. Which city has the most Walmarts?"
   ]
  },
  {
   "cell_type": "code",
   "execution_count": 10,
   "id": "1aa8a8c9",
   "metadata": {},
   "outputs": [],
   "source": [
    "result_3 = walmart_collection.aggregate([ { \n",
    "    \"$group\" : { \n",
    "        \"_id\" : \"$city\", \n",
    "        \"amt\": { \"$sum\": 1 }\n",
    "    } \n",
    "} ] )\n",
    "\n",
    "city_sums = []\n",
    "for i in result_3:\n",
    "    city_sums.append(i)\n",
    "    \n"
   ]
  },
  {
   "cell_type": "code",
   "execution_count": 11,
   "id": "a157e406",
   "metadata": {},
   "outputs": [
    {
     "data": {
      "image/png": "[encoded data removed]",
      "text/plain": [
       "<Figure size 432x288 with 1 Axes>"
      ]
     },
     "metadata": {
      "needs_background": "light"
     },
     "output_type": "display_data"
    }
   ],
   "source": [
    "df = pd.DataFrame(city_sums)\n",
    "top_cities = df.sort_values(by=['amt'], ascending=False).head(10)\n",
    "x = top_cities['_id']\n",
    "y = top_cities['amt']\n",
    "\n",
    "plt.bar(x,y)\n",
    "plt.xticks(rotation = 'vertical')\n",
    "plt.show()"
   ]
  },
  {
   "cell_type": "markdown",
   "id": "38728ae4",
   "metadata": {},
   "source": [
    "#### Answer: New York City has the most Walmart stores"
   ]
  },
  {
   "cell_type": "markdown",
   "id": "5f26ea49",
   "metadata": {},
   "source": [
    "#### Q4. Which state has the most walmarts?"
   ]
  },
  {
   "cell_type": "code",
   "execution_count": 12,
   "id": "be29835a",
   "metadata": {},
   "outputs": [
    {
     "data": {
      "image/png": "[encoded data removed]",
      "text/plain": [
       "<Figure size 432x288 with 1 Axes>"
      ]
     },
     "metadata": {
      "needs_background": "light"
     },
     "output_type": "display_data"
    }
   ],
   "source": [
    "result_4 = walmart_collection.aggregate([ { \n",
    "    \"$group\" : { \n",
    "        \"_id\" : \"$state\", \n",
    "        \"amt\": { \"$sum\": 1 }\n",
    "    } \n",
    "} ] )\n",
    "\n",
    "state_sums = []\n",
    "for i in result_4:\n",
    "    state_sums.append(i)\n",
    "    \n",
    "    \n",
    "df = pd.DataFrame(state_sums)\n",
    "top_states = df.sort_values(by=['amt'], ascending=False).head(10)\n",
    "x = top_states['_id']\n",
    "y = top_states['amt']\n",
    "\n",
    "plt.bar(x,y)\n",
    "plt.xticks(rotation = 'vertical')\n",
    "plt.show()"
   ]
  },
  {
   "cell_type": "markdown",
   "id": "6436bd19",
   "metadata": {},
   "source": [
    "#### Answer: California and Texas have the most Walmart stores."
   ]
  },
  {
   "cell_type": "markdown",
   "id": "37e48348",
   "metadata": {},
   "source": [
    "#### Q.5 How many Walmarts are on the East Coast?"
   ]
  },
  {
   "cell_type": "code",
   "execution_count": 13,
   "id": "74b919fb",
   "metadata": {},
   "outputs": [
    {
     "data": {
      "text/plain": [
       "2294"
      ]
     },
     "execution_count": 13,
     "metadata": {},
     "output_type": "execute_result"
    }
   ],
   "source": [
    "result_5 = walmart_collection.find({ \"timeZone\" : \"EST\"})\n",
    "\n",
    "zone_sum = []\n",
    "for i in result_5:\n",
    "    zone_sum.append(i)\n",
    "    \n",
    "len(zone_sum)"
   ]
  },
  {
   "cell_type": "markdown",
   "id": "dba8c5d7",
   "metadata": {},
   "source": [
    "#### Answer: There are 2294 Walmart locations in the EST timezone"
   ]
  },
  {
   "cell_type": "markdown",
   "id": "89f7ae55",
   "metadata": {},
   "source": [
    "#### Q.6 What is the most common form of Walmart location?"
   ]
  },
  {
   "cell_type": "code",
   "execution_count": 14,
   "id": "99804a11",
   "metadata": {},
   "outputs": [
    {
     "data": {
      "image/png": "[encoded data removed]",
      "text/plain": [
       "<Figure size 432x288 with 1 Axes>"
      ]
     },
     "metadata": {
      "needs_background": "light"
     },
     "output_type": "display_data"
    }
   ],
   "source": [
    "result_6 = walmart_collection.aggregate([ { \n",
    "    \"$group\" : { \n",
    "        \"_id\" : \"$name\", \n",
    "        \"amt\": { \"$sum\": 1 }\n",
    "    } \n",
    "} ] )\n",
    "\n",
    "name_sums = []\n",
    "for i in result_6:\n",
    "    name_sums.append(i)\n",
    "    \n",
    "    \n",
    "df = pd.DataFrame(name_sums)\n",
    "top_names = df.sort_values(by=['amt'], ascending=False).head(10)\n",
    "x = top_names['_id']\n",
    "y = top_names['amt']\n",
    "\n",
    "plt.bar(x,y)\n",
    "plt.xticks(rotation = 'vertical')\n",
    "plt.show()"
   ]
  },
  {
   "cell_type": "markdown",
   "id": "3a92b9d3",
   "metadata": {},
   "source": [
    "#### Anwer: The most common form of Walmart location is \"Walmart Supercenter\", with just over 3000 locations"
   ]
  },
  {
   "cell_type": "markdown",
   "id": "38cc8110",
   "metadata": {},
   "source": [
    "#### Q7. What is the distribution of the different type of Walmart locations in MA?"
   ]
  },
  {
   "cell_type": "code",
   "execution_count": 15,
   "id": "ddac68ff",
   "metadata": {},
   "outputs": [],
   "source": [
    "result_7 = walmart_collection.aggregate([ \n",
    "    ## stage 1\n",
    "    {\n",
    "        \"$match\" : { \"state\" :\n",
    "                    { \"$eq\" : \"MA\" }\n",
    "                   }\n",
    "    },\n",
    "    \n",
    "    {\n",
    "        \"$group\" : { \n",
    "        \"_id\" : \"$name\", \n",
    "        \"amt\": { \"$sum\": 1 }\n",
    "    } \n",
    "} ] )"
   ]
  },
  {
   "cell_type": "code",
   "execution_count": 16,
   "id": "3cc6ffce",
   "metadata": {},
   "outputs": [
    {
     "name": "stdout",
     "output_type": "stream",
     "text": [
      "{'_id': 'Walmart Supercenter', 'amt': 13}\n",
      "{'_id': 'FedEx Office', 'amt': 12}\n",
      "{'_id': 'Walmart', 'amt': 35}\n",
      "{'_id': \"Sam's Club\", 'amt': 3}\n"
     ]
    }
   ],
   "source": [
    "for i in result_7:\n",
    "    print(i)"
   ]
  },
  {
   "cell_type": "markdown",
   "id": "3c9b2225",
   "metadata": {},
   "source": [
    "#### Answer:\n",
    "{'_id': 'Walmart Supercenter', 'amt': 13}\n",
    "{'_id': 'FedEx Office', 'amt': 12}\n",
    "{'_id': 'Walmart', 'amt': 35}\n",
    "{'_id': \"Sam's Club\", 'amt': 3}"
   ]
  },
  {
   "cell_type": "markdown",
   "id": "08cb943c",
   "metadata": {},
   "source": [
    "#### Q.8 How many Fedex Office Locations are in NYC?"
   ]
  },
  {
   "cell_type": "code",
   "execution_count": 17,
   "id": "bb0edc8f",
   "metadata": {},
   "outputs": [
    {
     "data": {
      "text/plain": [
       "53"
      ]
     },
     "execution_count": 17,
     "metadata": {},
     "output_type": "execute_result"
    }
   ],
   "source": [
    "result_8 = walmart_collection.aggregate([ \n",
    "    {\n",
    "        \"$match\" : { \"city\" :\n",
    "                    { \"$eq\" : \"New York\" }\n",
    "                   }\n",
    "    },\n",
    "    \n",
    "    {\n",
    "          \"$match\" : { \"name\" :\n",
    "                    { \"$eq\" : \"FedEx Office\" }\n",
    "    } \n",
    "} ] )\n",
    "\n",
    "num_fedex = []\n",
    "for i in result_8:\n",
    "    num_fedex.append(i)\n",
    "    \n",
    "len(num_fedex)"
   ]
  },
  {
   "cell_type": "markdown",
   "id": "cba75e41",
   "metadata": {},
   "source": [
    "####  Answer: There are 53 Fedex Office locations in NYC"
   ]
  },
  {
   "cell_type": "markdown",
   "id": "2cc6f644",
   "metadata": {},
   "source": [
    "#### Q.9 Rank U.S. states in order of fewest Walmarts to Most Walmart locations"
   ]
  },
  {
   "cell_type": "code",
   "execution_count": 18,
   "id": "7173338b",
   "metadata": {},
   "outputs": [
    {
     "name": "stdout",
     "output_type": "stream",
     "text": [
      "{'_id': 'VT', 'amt': 5}\n",
      "{'_id': 'RI', 'amt': 10}\n",
      "{'_id': 'WY', 'amt': 12}\n",
      "{'_id': 'HI', 'amt': 13}\n",
      "{'_id': 'AK', 'amt': 13}\n",
      "{'_id': 'DE', 'amt': 14}\n",
      "{'_id': 'MT', 'amt': 15}\n",
      "{'_id': 'SD', 'amt': 16}\n",
      "{'_id': 'ND', 'amt': 17}\n",
      "{'_id': 'DC', 'amt': 24}\n",
      "{'_id': 'ID', 'amt': 25}\n",
      "{'_id': 'ME', 'amt': 25}\n",
      "{'_id': 'NH', 'amt': 34}\n",
      "{'_id': 'WV', 'amt': 44}\n",
      "{'_id': 'NE', 'amt': 46}\n",
      "{'_id': 'NM', 'amt': 48}\n",
      "{'_id': 'NV', 'amt': 50}\n",
      "{'_id': 'UT', 'amt': 57}\n",
      "{'_id': 'CT', 'amt': 57}\n",
      "{'_id': 'MA', 'amt': 63}\n",
      "{'_id': 'OR', 'amt': 66}\n",
      "{'_id': 'IA', 'amt': 67}\n",
      "{'_id': 'MS', 'amt': 74}\n",
      "{'_id': 'MD', 'amt': 76}\n",
      "{'_id': 'KS', 'amt': 86}\n",
      "{'_id': 'NJ', 'amt': 94}\n",
      "{'_id': 'SC', 'amt': 97}\n",
      "{'_id': 'KY', 'amt': 104}\n",
      "{'_id': 'WA', 'amt': 107}\n",
      "{'_id': 'MN', 'amt': 110}\n",
      "{'_id': 'LA', 'amt': 114}\n",
      "{'_id': 'OK', 'amt': 119}\n",
      "{'_id': 'WI', 'amt': 120}\n",
      "{'_id': 'AZ', 'amt': 124}\n",
      "{'_id': 'AL', 'amt': 127}\n",
      "{'_id': 'IN', 'amt': 127}\n",
      "{'_id': 'AR', 'amt': 130}\n",
      "{'_id': 'CO', 'amt': 133}\n",
      "{'_id': 'TN', 'amt': 136}\n",
      "{'_id': 'MO', 'amt': 148}\n",
      "{'_id': 'MI', 'amt': 157}\n",
      "{'_id': 'VA', 'amt': 160}\n",
      "{'_id': 'PA', 'amt': 180}\n",
      "{'_id': 'GA', 'amt': 192}\n",
      "{'_id': 'NC', 'amt': 198}\n",
      "{'_id': 'NY', 'amt': 202}\n",
      "{'_id': 'OH', 'amt': 221}\n",
      "{'_id': 'IL', 'amt': 287}\n",
      "{'_id': 'FL', 'amt': 380}\n",
      "{'_id': 'TX', 'amt': 537}\n",
      "{'_id': 'CA', 'amt': 560}\n"
     ]
    }
   ],
   "source": [
    "result_9 = walmart_collection.aggregate([ \n",
    "    {\n",
    "        \"$group\" : { \n",
    "        \"_id\" : \"$state\", \n",
    "        \"amt\": { \"$sum\": 1 }\n",
    "    }},\n",
    "        {\n",
    "        \"$sort\" : { \"amt\" : 1\n",
    "                   }\n",
    "} ] )\n",
    "\n",
    "for i in result_9:\n",
    "    print(i)"
   ]
  },
  {
   "cell_type": "markdown",
   "id": "2a05e2a9",
   "metadata": {},
   "source": [
    "#### Q.10 Rank Cities in Massachusetts in order of fewest Walmarts to Most Walmart locations"
   ]
  },
  {
   "cell_type": "code",
   "execution_count": 19,
   "id": "02be5bba",
   "metadata": {},
   "outputs": [
    {
     "name": "stdout",
     "output_type": "stream",
     "text": [
      "{'_id': 'Chestnut Hill', 'amt': 1}\n",
      "{'_id': 'Hyannis', 'amt': 1}\n",
      "{'_id': 'North Dartmouth', 'amt': 1}\n",
      "{'_id': 'Leominster', 'amt': 1}\n",
      "{'_id': 'Framingham', 'amt': 1}\n",
      "{'_id': 'Orange', 'amt': 1}\n",
      "{'_id': 'Gardner', 'amt': 1}\n",
      "{'_id': 'Walpole', 'amt': 1}\n",
      "{'_id': 'Quincy', 'amt': 1}\n",
      "{'_id': 'Saugus', 'amt': 1}\n",
      "{'_id': 'Teaticket', 'amt': 1}\n",
      "{'_id': 'Chicopee', 'amt': 1}\n",
      "{'_id': 'Tewksbury', 'amt': 1}\n",
      "{'_id': 'Bellingham', 'amt': 1}\n",
      "{'_id': 'Lunenburg', 'amt': 1}\n",
      "{'_id': 'Danvers', 'amt': 1}\n",
      "{'_id': 'Westfield', 'amt': 1}\n",
      "{'_id': 'East Wareham', 'amt': 1}\n",
      "{'_id': 'Hadley', 'amt': 1}\n",
      "{'_id': 'Northborough', 'amt': 1}\n",
      "{'_id': 'Swansea', 'amt': 1}\n",
      "{'_id': 'Haverhill', 'amt': 1}\n",
      "{'_id': 'Chelmsford', 'amt': 1}\n",
      "{'_id': 'Springfield', 'amt': 1}\n",
      "{'_id': 'Braintree', 'amt': 1}\n",
      "{'_id': 'North Reading', 'amt': 1}\n",
      "{'_id': 'Weymouth', 'amt': 1}\n",
      "{'_id': 'Leicester', 'amt': 1}\n",
      "{'_id': 'Hudson', 'amt': 1}\n",
      "{'_id': 'North Attleboro', 'amt': 1}\n",
      "{'_id': 'Brockton', 'amt': 1}\n",
      "{'_id': 'Salem', 'amt': 1}\n",
      "{'_id': 'Northampton', 'amt': 1}\n",
      "{'_id': 'Halifax', 'amt': 1}\n",
      "{'_id': 'West Boylston', 'amt': 1}\n",
      "{'_id': 'Plymouth', 'amt': 1}\n",
      "{'_id': 'Avon', 'amt': 1}\n",
      "{'_id': 'Pittsfield', 'amt': 1}\n",
      "{'_id': 'Lynn', 'amt': 1}\n",
      "{'_id': 'North Adams', 'amt': 1}\n",
      "{'_id': 'Abington', 'amt': 1}\n",
      "{'_id': 'Whitinsville', 'amt': 1}\n",
      "{'_id': 'Fairhaven', 'amt': 1}\n",
      "{'_id': 'North Oxford', 'amt': 1}\n",
      "{'_id': 'Needham', 'amt': 1}\n",
      "{'_id': 'Peabody', 'amt': 1}\n",
      "{'_id': 'Sturbridge', 'amt': 1}\n",
      "{'_id': 'Hanover', 'amt': 1}\n",
      "{'_id': 'Ware', 'amt': 1}\n",
      "{'_id': 'Norwood', 'amt': 1}\n",
      "{'_id': 'Methuen', 'amt': 1}\n",
      "{'_id': 'Raynham', 'amt': 2}\n",
      "{'_id': 'Worcester', 'amt': 2}\n",
      "{'_id': 'Fall River', 'amt': 2}\n",
      "{'_id': 'Seekonk', 'amt': 2}\n",
      "{'_id': 'Cambridge', 'amt': 2}\n",
      "{'_id': 'Boston', 'amt': 2}\n"
     ]
    }
   ],
   "source": [
    "result_10 = walmart_collection.aggregate([ \n",
    "    {\n",
    "        \"$match\" : { \"state\" :\n",
    "                    { \"$eq\" : \"MA\" }\n",
    "                   } \n",
    "    },\n",
    "    {\n",
    "        \"$group\" : { \n",
    "            \"_id\" : \"$city\", \n",
    "            \"amt\": { \"$sum\": 1 }\n",
    "        }},\n",
    "    {\n",
    "        \"$sort\" : { \"amt\" : 1\n",
    "                  }\n",
    "    }\n",
    "] )\n",
    "\n",
    "for i in result_10:\n",
    "    print(i)"
   ]
  }
 ],
 "metadata": {
  "kernelspec": {
   "display_name": "Python 3 (ipykernel)",
   "language": "python",
   "name": "python3"
  },
  "language_info": {
   "codemirror_mode": {
    "name": "ipython",
    "version": 3
   },
   "file_extension": ".py",
   "mimetype": "text/x-python",
   "name": "python",
   "nbconvert_exporter": "python",
   "pygments_lexer": "ipython3",
   "version": "3.10.2"
  }
 },
 "nbformat": 4,
 "nbformat_minor": 5
}
