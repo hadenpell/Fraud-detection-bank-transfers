{
 "cells": [
  {
   "cell_type": "code",
   "execution_count": 52,
   "id": "10d9f78d",
   "metadata": {},
   "outputs": [],
   "source": [
    "import pandas as pd\n",
    "import numpy as np\n",
    "from sklearn.linear_model import LogisticRegression\n",
    "from sklearn.preprocessing import StandardScaler, OneHotEncoder\n",
    "from sklearn.model_selection import train_test_split\n",
    "from sklearn import utils\n",
    "from sklearn.metrics import log_loss\n",
    "from sklearn.metrics import f1_score\n",
    "from sklearn.model_selection import cross_val_score\n",
    "from sklearn.metrics import accuracy_score\n",
    "from sklearn.metrics import precision_score\n",
    "from sklearn.metrics import recall_score\n",
    "from sklearn.metrics import confusion_matrix"
   ]
  },
  {
   "cell_type": "code",
   "execution_count": 53,
   "id": "2d48118e",
   "metadata": {},
   "outputs": [],
   "source": [
    "df = pd.read_csv('Fraud.csv')"
   ]
  },
  {
   "cell_type": "code",
   "execution_count": 54,
   "id": "800ea172",
   "metadata": {},
   "outputs": [],
   "source": [
    "#One hot the dataset\n",
    "onehot = OneHotEncoder(handle_unknown='ignore')\n",
    "df_onehot = pd.DataFrame(onehot.fit_transform(np.array(df['type']).reshape(-1,1)).toarray())\n",
    "df = df.join(df_onehot)\n",
    "features = ['amount', 'oldbalanceOrg', 'newbalanceOrig','oldbalanceDest', 'newbalanceDest','isFlaggedFraud',0,1,2,3,4]"
   ]
  },
  {
   "cell_type": "code",
   "execution_count": 55,
   "id": "b615aff2",
   "metadata": {},
   "outputs": [],
   "source": [
    "X = np.array(df[features])\n",
    "y = df['isFraud']\n",
    "## Scale features\n",
    "scaler = StandardScaler()\n",
    "X = scaler.fit_transform(X)"
   ]
  },
  {
   "cell_type": "code",
   "execution_count": 56,
   "id": "fbc81944",
   "metadata": {},
   "outputs": [],
   "source": [
    "X_train, X_test, y_train, y_test = train_test_split(X,y,random_state=3000)"
   ]
  },
  {
   "cell_type": "code",
   "execution_count": 57,
   "id": "4db5166e",
   "metadata": {},
   "outputs": [
    {
     "name": "stdout",
     "output_type": "stream",
     "text": [
      "Confusion Matrix\n",
      "[[1588441     197]\n",
      " [    213    1804]]\n",
      "\n",
      "TN (True Negative) predictions: 1588441\n",
      "FP (False Positive) predictions: 197\n",
      "FN (False Negative) predictions: 213\n",
      "TP (True Positive) predictions: 1804\n"
     ]
    }
   ],
   "source": [
    "from sklearn.tree import DecisionTreeClassifier\n",
    "from sklearn.metrics import classification_report\n",
    "\n",
    "treeModel = DecisionTreeClassifier(min_samples_split=3).fit(X_train, y_train)\n",
    "treePred = treeModel.predict(X_test)\n",
    "\n",
    "cm = confusion_matrix(y_test, treePred)\n",
    "print(\"Confusion Matrix\")\n",
    "print(cm)\n",
    "print()\n",
    "print(\"TN (True Negative) predictions:\", cm[0][0])\n",
    "print(\"FP (False Positive) predictions:\", cm[0][1])\n",
    "print(\"FN (False Negative) predictions:\", cm[1][0])\n",
    "print(\"TP (True Positive) predictions:\", cm[1][1])"
   ]
  },
  {
   "cell_type": "code",
   "execution_count": 58,
   "id": "3c50c4cd",
   "metadata": {},
   "outputs": [
    {
     "name": "stdout",
     "output_type": "stream",
     "text": [
      "classification Report\n",
      "              precision    recall  f1-score   support\n",
      "\n",
      "           0       1.00      1.00      1.00   1588638\n",
      "           1       0.90      0.89      0.90      2017\n",
      "\n",
      "    accuracy                           1.00   1590655\n",
      "   macro avg       0.95      0.95      0.95   1590655\n",
      "weighted avg       1.00      1.00      1.00   1590655\n",
      "\n",
      "\n"
     ]
    }
   ],
   "source": [
    "classification_report = classification_report(y_test, treePred)\n",
    "print(\"classification Report\")\n",
    "print(classification_report)\n",
    "print()"
   ]
  },
  {
   "cell_type": "code",
   "execution_count": 59,
   "id": "268fe325",
   "metadata": {},
   "outputs": [
    {
     "name": "stdout",
     "output_type": "stream",
     "text": [
      "\n",
      "Accuracy= 0.9997422445470576\n",
      "Error= 0.00025775545294237645\n",
      "\n",
      "Precision= 0.9015492253873063\n",
      "Recall= 0.8943976202280615\n",
      "F1_score= 0.8979591836734693\n"
     ]
    }
   ],
   "source": [
    "#accuracy and error of testing set\n",
    "accuracy = accuracy_score(y_test, treePred)\n",
    "error = 1-accuracy\n",
    "print()\n",
    "print(\"Accuracy=\",accuracy)\n",
    "print(\"Error=\",error)\n",
    "\n",
    "#Precsion, Recall, and F1_score\n",
    "precision = precision_score(y_test, treePred)\n",
    "recall = recall_score(y_test, treePred)\n",
    "f1 = f1_score(y_test, treePred)\n",
    "print()\n",
    "print(\"Precision=\", precision)\n",
    "print(\"Recall=\", recall)\n",
    "print(\"F1_score=\", f1)"
   ]
  }
 ],
 "metadata": {
  "kernelspec": {
   "display_name": "Python 3 (ipykernel)",
   "language": "python",
   "name": "python3"
  },
  "language_info": {
   "codemirror_mode": {
    "name": "ipython",
    "version": 3
   },
   "file_extension": ".py",
   "mimetype": "text/x-python",
   "name": "python",
   "nbconvert_exporter": "python",
   "pygments_lexer": "ipython3",
   "version": "3.10.2"
  }
 },
 "nbformat": 4,
 "nbformat_minor": 5
}
