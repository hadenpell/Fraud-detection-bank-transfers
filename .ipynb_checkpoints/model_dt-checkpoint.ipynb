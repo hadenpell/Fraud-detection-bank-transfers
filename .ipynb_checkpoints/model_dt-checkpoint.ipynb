{
 "cells": [
  {
   "cell_type": "code",
   "execution_count": 76,
   "id": "10d9f78d",
   "metadata": {},
   "outputs": [],
   "source": [
    "import pandas as pd\n",
    "import numpy as np\n",
    "from sklearn.linear_model import LogisticRegression\n",
    "from sklearn.preprocessing import StandardScaler, OneHotEncoder\n",
    "from sklearn.model_selection import train_test_split\n",
    "from sklearn import utils\n",
    "from sklearn.metrics import log_loss\n",
    "from sklearn.metrics import f1_score\n",
    "from sklearn.model_selection import cross_val_score\n",
    "from sklearn.metrics import accuracy_score\n",
    "from sklearn.metrics import precision_score\n",
    "from sklearn.metrics import recall_score\n",
    "from sklearn.metrics import confusion_matrix\n",
    "import pickle"
   ]
  },
  {
   "cell_type": "code",
   "execution_count": 77,
   "id": "2d48118e",
   "metadata": {},
   "outputs": [],
   "source": [
    "df = pd.read_csv('modeldata.csv')"
   ]
  },
  {
   "cell_type": "code",
   "execution_count": 78,
   "id": "b12fc34b",
   "metadata": {},
   "outputs": [
    {
     "data": {
      "text/html": [
       "<div>\n",
       "<style scoped>\n",
       "    .dataframe tbody tr th:only-of-type {\n",
       "        vertical-align: middle;\n",
       "    }\n",
       "\n",
       "    .dataframe tbody tr th {\n",
       "        vertical-align: top;\n",
       "    }\n",
       "\n",
       "    .dataframe thead th {\n",
       "        text-align: right;\n",
       "    }\n",
       "</style>\n",
       "<table border=\"1\" class=\"dataframe\">\n",
       "  <thead>\n",
       "    <tr style=\"text-align: right;\">\n",
       "      <th></th>\n",
       "      <th>is_transfer</th>\n",
       "      <th>amount</th>\n",
       "      <th>oldbalanceOrg</th>\n",
       "      <th>newbalanceOrig</th>\n",
       "      <th>oldbalanceDest</th>\n",
       "      <th>newbalanceDest</th>\n",
       "      <th>isFlaggedFraud</th>\n",
       "      <th>isFraud</th>\n",
       "    </tr>\n",
       "  </thead>\n",
       "  <tbody>\n",
       "    <tr>\n",
       "      <th>0</th>\n",
       "      <td>0</td>\n",
       "      <td>229133.94</td>\n",
       "      <td>15325.00</td>\n",
       "      <td>0.0</td>\n",
       "      <td>5083.00</td>\n",
       "      <td>51513.44</td>\n",
       "      <td>0</td>\n",
       "      <td>0</td>\n",
       "    </tr>\n",
       "    <tr>\n",
       "      <th>1</th>\n",
       "      <td>0</td>\n",
       "      <td>181.00</td>\n",
       "      <td>181.00</td>\n",
       "      <td>0.0</td>\n",
       "      <td>21182.00</td>\n",
       "      <td>0.00</td>\n",
       "      <td>0</td>\n",
       "      <td>1</td>\n",
       "    </tr>\n",
       "    <tr>\n",
       "      <th>2</th>\n",
       "      <td>1</td>\n",
       "      <td>181.00</td>\n",
       "      <td>181.00</td>\n",
       "      <td>0.0</td>\n",
       "      <td>0.00</td>\n",
       "      <td>0.00</td>\n",
       "      <td>0</td>\n",
       "      <td>1</td>\n",
       "    </tr>\n",
       "    <tr>\n",
       "      <th>3</th>\n",
       "      <td>1</td>\n",
       "      <td>215310.30</td>\n",
       "      <td>705.00</td>\n",
       "      <td>0.0</td>\n",
       "      <td>22425.00</td>\n",
       "      <td>0.00</td>\n",
       "      <td>0</td>\n",
       "      <td>0</td>\n",
       "    </tr>\n",
       "    <tr>\n",
       "      <th>4</th>\n",
       "      <td>1</td>\n",
       "      <td>311685.89</td>\n",
       "      <td>10835.00</td>\n",
       "      <td>0.0</td>\n",
       "      <td>6267.00</td>\n",
       "      <td>2719172.89</td>\n",
       "      <td>0</td>\n",
       "      <td>0</td>\n",
       "    </tr>\n",
       "    <tr>\n",
       "      <th>...</th>\n",
       "      <td>...</td>\n",
       "      <td>...</td>\n",
       "      <td>...</td>\n",
       "      <td>...</td>\n",
       "      <td>...</td>\n",
       "      <td>...</td>\n",
       "      <td>...</td>\n",
       "      <td>...</td>\n",
       "    </tr>\n",
       "    <tr>\n",
       "      <th>2770404</th>\n",
       "      <td>1</td>\n",
       "      <td>6311409.28</td>\n",
       "      <td>6311409.28</td>\n",
       "      <td>0.0</td>\n",
       "      <td>0.00</td>\n",
       "      <td>0.00</td>\n",
       "      <td>0</td>\n",
       "      <td>1</td>\n",
       "    </tr>\n",
       "    <tr>\n",
       "      <th>2770405</th>\n",
       "      <td>0</td>\n",
       "      <td>339682.13</td>\n",
       "      <td>339682.13</td>\n",
       "      <td>0.0</td>\n",
       "      <td>0.00</td>\n",
       "      <td>339682.13</td>\n",
       "      <td>0</td>\n",
       "      <td>1</td>\n",
       "    </tr>\n",
       "    <tr>\n",
       "      <th>2770406</th>\n",
       "      <td>0</td>\n",
       "      <td>6311409.28</td>\n",
       "      <td>6311409.28</td>\n",
       "      <td>0.0</td>\n",
       "      <td>68488.84</td>\n",
       "      <td>6379898.11</td>\n",
       "      <td>0</td>\n",
       "      <td>1</td>\n",
       "    </tr>\n",
       "    <tr>\n",
       "      <th>2770407</th>\n",
       "      <td>1</td>\n",
       "      <td>850002.52</td>\n",
       "      <td>850002.52</td>\n",
       "      <td>0.0</td>\n",
       "      <td>0.00</td>\n",
       "      <td>0.00</td>\n",
       "      <td>0</td>\n",
       "      <td>1</td>\n",
       "    </tr>\n",
       "    <tr>\n",
       "      <th>2770408</th>\n",
       "      <td>0</td>\n",
       "      <td>850002.52</td>\n",
       "      <td>850002.52</td>\n",
       "      <td>0.0</td>\n",
       "      <td>6510099.11</td>\n",
       "      <td>7360101.63</td>\n",
       "      <td>0</td>\n",
       "      <td>1</td>\n",
       "    </tr>\n",
       "  </tbody>\n",
       "</table>\n",
       "<p>2770409 rows × 8 columns</p>\n",
       "</div>"
      ],
      "text/plain": [
       "         is_transfer      amount  oldbalanceOrg  newbalanceOrig  \\\n",
       "0                  0   229133.94       15325.00             0.0   \n",
       "1                  0      181.00         181.00             0.0   \n",
       "2                  1      181.00         181.00             0.0   \n",
       "3                  1   215310.30         705.00             0.0   \n",
       "4                  1   311685.89       10835.00             0.0   \n",
       "...              ...         ...            ...             ...   \n",
       "2770404            1  6311409.28     6311409.28             0.0   \n",
       "2770405            0   339682.13      339682.13             0.0   \n",
       "2770406            0  6311409.28     6311409.28             0.0   \n",
       "2770407            1   850002.52      850002.52             0.0   \n",
       "2770408            0   850002.52      850002.52             0.0   \n",
       "\n",
       "         oldbalanceDest  newbalanceDest  isFlaggedFraud  isFraud  \n",
       "0               5083.00        51513.44               0        0  \n",
       "1              21182.00            0.00               0        1  \n",
       "2                  0.00            0.00               0        1  \n",
       "3              22425.00            0.00               0        0  \n",
       "4               6267.00      2719172.89               0        0  \n",
       "...                 ...             ...             ...      ...  \n",
       "2770404            0.00            0.00               0        1  \n",
       "2770405            0.00       339682.13               0        1  \n",
       "2770406        68488.84      6379898.11               0        1  \n",
       "2770407            0.00            0.00               0        1  \n",
       "2770408      6510099.11      7360101.63               0        1  \n",
       "\n",
       "[2770409 rows x 8 columns]"
      ]
     },
     "execution_count": 78,
     "metadata": {},
     "output_type": "execute_result"
    }
   ],
   "source": [
    "df"
   ]
  },
  {
   "cell_type": "code",
   "execution_count": 81,
   "id": "002d0acb",
   "metadata": {},
   "outputs": [],
   "source": [
    "features = ['is_transfer', 'amount', 'oldbalanceOrg', 'newbalanceOrig','oldbalanceDest', 'newbalanceDest']"
   ]
  },
  {
   "cell_type": "code",
   "execution_count": 82,
   "id": "b615aff2",
   "metadata": {},
   "outputs": [],
   "source": [
    "X = df[features]\n",
    "y = df['isFraud']\n",
    "## Scale features\n",
    "scaler = StandardScaler()\n",
    "X = scaler.fit_transform(X)"
   ]
  },
  {
   "cell_type": "code",
   "execution_count": 83,
   "id": "fbc81944",
   "metadata": {},
   "outputs": [],
   "source": [
    "X_train, X_test, y_train, y_test = train_test_split(X,y,random_state=3000)"
   ]
  },
  {
   "cell_type": "code",
   "execution_count": 84,
   "id": "4db5166e",
   "metadata": {},
   "outputs": [
    {
     "name": "stdout",
     "output_type": "stream",
     "text": [
      "Confusion Matrix\n",
      "[[690352    198]\n",
      " [   261   1792]]\n",
      "\n",
      "TN (True Negative) predictions: 690352\n",
      "FP (False Positive) predictions: 198\n",
      "FN (False Negative) predictions: 261\n",
      "TP (True Positive) predictions: 1792\n"
     ]
    }
   ],
   "source": [
    "from sklearn.tree import DecisionTreeClassifier\n",
    "from sklearn.metrics import classification_report\n",
    "\n",
    "treeModel = DecisionTreeClassifier(min_samples_split=3).fit(X_train, y_train)\n",
    "treePred = treeModel.predict(X_test)\n",
    "\n",
    "cm = confusion_matrix(y_test, treePred)\n",
    "print(\"Confusion Matrix\")\n",
    "print(cm)\n",
    "print()\n",
    "print(\"TN (True Negative) predictions:\", cm[0][0])\n",
    "print(\"FP (False Positive) predictions:\", cm[0][1])\n",
    "print(\"FN (False Negative) predictions:\", cm[1][0])\n",
    "print(\"TP (True Positive) predictions:\", cm[1][1])"
   ]
  },
  {
   "cell_type": "code",
   "execution_count": 85,
   "id": "3c50c4cd",
   "metadata": {},
   "outputs": [
    {
     "name": "stdout",
     "output_type": "stream",
     "text": [
      "classification Report\n",
      "              precision    recall  f1-score   support\n",
      "\n",
      "           0       1.00      1.00      1.00    690550\n",
      "           1       0.90      0.87      0.89      2053\n",
      "\n",
      "    accuracy                           1.00    692603\n",
      "   macro avg       0.95      0.94      0.94    692603\n",
      "weighted avg       1.00      1.00      1.00    692603\n",
      "\n",
      "\n"
     ]
    }
   ],
   "source": [
    "classification_report = classification_report(y_test, treePred)\n",
    "print(\"classification Report\")\n",
    "print(classification_report)\n",
    "print()"
   ]
  },
  {
   "cell_type": "code",
   "execution_count": 86,
   "id": "268fe325",
   "metadata": {},
   "outputs": [
    {
     "name": "stdout",
     "output_type": "stream",
     "text": [
      "\n",
      "Accuracy= 0.9993372826857522\n",
      "Error= 0.0006627173142478293\n",
      "\n",
      "Precision= 0.9005025125628141\n",
      "Recall= 0.8728689722357525\n",
      "F1_score= 0.8864704427405392\n"
     ]
    }
   ],
   "source": [
    "#accuracy and error of testing set\n",
    "accuracy = accuracy_score(y_test, treePred)\n",
    "error = 1-accuracy\n",
    "print()\n",
    "print(\"Accuracy=\",accuracy)\n",
    "print(\"Error=\",error)\n",
    "\n",
    "#Precsion, Recall, and F1_score\n",
    "precision = precision_score(y_test, treePred)\n",
    "recall = recall_score(y_test, treePred)\n",
    "f1 = f1_score(y_test, treePred)\n",
    "print()\n",
    "print(\"Precision=\", precision)\n",
    "print(\"Recall=\", recall)\n",
    "print(\"F1_score=\", f1)"
   ]
  },
  {
   "cell_type": "markdown",
   "id": "fb0b9c89",
   "metadata": {},
   "source": [
    "### Plot correlations and feature importances"
   ]
  },
  {
   "cell_type": "code",
   "execution_count": 87,
   "id": "cc637164",
   "metadata": {},
   "outputs": [],
   "source": [
    "importances={}"
   ]
  },
  {
   "cell_type": "code",
   "execution_count": 88,
   "id": "bfe055e1",
   "metadata": {},
   "outputs": [],
   "source": [
    "ft_importances = treeModel.feature_importances_"
   ]
  },
  {
   "cell_type": "code",
   "execution_count": 90,
   "id": "d6b8d82d",
   "metadata": {},
   "outputs": [],
   "source": [
    "for f,i in zip(features,ft_importances):\n",
    "    importances[f] = i"
   ]
  },
  {
   "cell_type": "code",
   "execution_count": 93,
   "id": "0e62af5f",
   "metadata": {},
   "outputs": [
    {
     "data": {
      "text/plain": [
       "{'is_transfer': 0.2096622536861184,\n",
       " 'amount': 0.273135475448767,\n",
       " 'oldbalanceOrg': 0.31894443015872326,\n",
       " 'newbalanceOrig': 0.014082658541489775,\n",
       " 'oldbalanceDest': 0.09773024906585757,\n",
       " 'newbalanceDest': 0.086444933099044}"
      ]
     },
     "execution_count": 93,
     "metadata": {},
     "output_type": "execute_result"
    }
   ],
   "source": [
    "importances"
   ]
  },
  {
   "cell_type": "code",
   "execution_count": 97,
   "id": "fe49e87e",
   "metadata": {},
   "outputs": [],
   "source": [
    "from seaborn import barplot"
   ]
  },
  {
   "cell_type": "code",
   "execution_count": 116,
   "id": "eebfa784",
   "metadata": {},
   "outputs": [
    {
     "name": "stderr",
     "output_type": "stream",
     "text": [
      "/Library/Frameworks/Python.framework/Versions/3.10/lib/python3.10/site-packages/seaborn/_decorators.py:36: FutureWarning: Pass the following variables as keyword args: x, y. From version 0.12, the only valid positional argument will be `data`, and passing other arguments without an explicit keyword will result in an error or misinterpretation.\n",
      "  warnings.warn(\n"
     ]
    },
    {
     "data": {
      "image/png": "[encoded data removed]",
      "text/plain": [
       "<Figure size 432x288 with 1 Axes>"
      ]
     },
     "metadata": {
      "needs_background": "light"
     },
     "output_type": "display_data"
    }
   ],
   "source": [
    "importances = dict(sorted(importances.items(), key=lambda item: abs(item[1]),reverse=True))\n",
    "\n",
    "plot = barplot(list(importances.values()),list(importances.keys())).set(title=\"Decision Tree feature importances\")"
   ]
  },
  {
   "cell_type": "code",
   "execution_count": 115,
   "id": "cb4ec446",
   "metadata": {},
   "outputs": [
    {
     "name": "stderr",
     "output_type": "stream",
     "text": [
      "/Library/Frameworks/Python.framework/Versions/3.10/lib/python3.10/site-packages/seaborn/_decorators.py:36: FutureWarning: Pass the following variables as keyword args: x, y. From version 0.12, the only valid positional argument will be `data`, and passing other arguments without an explicit keyword will result in an error or misinterpretation.\n",
      "  warnings.warn(\n"
     ]
    },
    {
     "data": {
      "image/png": "[encoded data removed]",
      "text/plain": [
       "<Figure size 432x288 with 1 Axes>"
      ]
     },
     "metadata": {
      "needs_background": "light"
     },
     "output_type": "display_data"
    }
   ],
   "source": [
    "record_corr  = {}\n",
    "for i in range(pd.DataFrame(X_train).shape[1]):\n",
    "    record_corr[features[i]] = np.corrcoef(pd.DataFrame(X_train).iloc[:,i],y_train)[1][0]\n",
    "\n",
    "#Sort list descending\n",
    "record_corr = dict(sorted(record_corr.items(), key=lambda item: abs(item[1]),reverse=True))\n",
    "\n",
    "plot = barplot(list(record_corr.values()),list(record_corr.keys())).set(title=\"Correlations of features->isFraud\")"
   ]
  },
  {
   "cell_type": "markdown",
   "id": "d213ca06",
   "metadata": {},
   "source": [
    "### Save model as pickle file"
   ]
  },
  {
   "cell_type": "code",
   "execution_count": 117,
   "id": "8667460e",
   "metadata": {},
   "outputs": [],
   "source": [
    "filename = 'DTFraudModel'\n",
    "pickle.dump(treeModel, open(filename, 'wb'))"
   ]
  },
  {
   "cell_type": "code",
   "execution_count": null,
   "id": "0f48a024",
   "metadata": {},
   "outputs": [],
   "source": []
  }
 ],
 "metadata": {
  "kernelspec": {
   "display_name": "Python 3 (ipykernel)",
   "language": "python",
   "name": "python3"
  },
  "language_info": {
   "codemirror_mode": {
    "name": "ipython",
    "version": 3
   },
   "file_extension": ".py",
   "mimetype": "text/x-python",
   "name": "python",
   "nbconvert_exporter": "python",
   "pygments_lexer": "ipython3",
   "version": "3.10.2"
  }
 },
 "nbformat": 4,
 "nbformat_minor": 5
}
