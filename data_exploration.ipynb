{
 "cells": [
  {
   "cell_type": "code",
   "execution_count": 26,
   "id": "4ff0a58d-65ff-4bc4-bfca-604131584c7a",
   "metadata": {},
   "outputs": [],
   "source": [
    "import pymongo\n",
    "import pandas as pd\n",
    "import numpy as np\n",
    "import json\n",
    "\n",
    "from collections import OrderedDict"
   ]
  },
  {
   "cell_type": "markdown",
   "id": "0a455235-38a3-4a93-bcc1-24fec64f38b1",
   "metadata": {},
   "source": [
    "# Data Exploration\n",
    "\n",
    "The Fraudulent Transactions dataset (sourced from https://www.kaggle.com/datasets/chitwanmanchanda/fraudulent-transactions-data) contains 6,362,620 transactions with the following features:  \n",
    "* __step__ - maps a unit of time in the real world. In this case 1 step is 1 hour of time. Total steps 744 (30 days simulation).\n",
    "\n",
    "* __type__ - CASH-IN, CASH-OUT, DEBIT, PAYMENT and TRANSFER.\n",
    "\n",
    "* __amount__ - amount of the transaction in local currency.\n",
    "\n",
    "* __nameOrig__ - customer who started the transaction\n",
    "\n",
    "* __oldbalanceOrg__ - initial balance before the transaction\n",
    "\n",
    "* __newbalanceOrig__ - new balance after the transaction\n",
    "\n",
    "* __nameDest__ - customer who is the recipient of the transaction\n",
    "\n",
    "* __oldbalanceDest__ - initial balance recipient before the transaction. Note that there is not information for customers that start with M (Merchants).\n",
    "\n",
    "* __newbalanceDest__ - new balance recipient after the transaction. Note that there is not information for customers that start with M (Merchants).\n",
    "\n",
    "* __isFraud__ - This is the transactions made by the fraudulent agents inside the simulation. In this specific dataset the fraudulent behavior of the agents aims to profit by taking control or customers accounts and try to empty the funds by transferring to another account and then cashing out of the system.\n",
    "\n",
    "* __isFlaggedFraud__ - The business model aims to control massive transfers from one account to another and flags illegal attempts. An illegal attempt in this dataset is an attempt to transfer more than 200.000 in a single transaction."
   ]
  },
  {
   "cell_type": "markdown",
   "id": "a224538d-6cb4-4bc4-9881-b8bcbedde00d",
   "metadata": {},
   "source": [
    "## Uploading data from MongoDB"
   ]
  },
  {
   "cell_type": "markdown",
   "id": "a5494c6b-87a5-47be-861b-684d8aeb3040",
   "metadata": {},
   "source": [
    "### Parsing and cleaning JSON"
   ]
  },
  {
   "cell_type": "code",
   "execution_count": 27,
   "id": "c9a0699a-0a08-4854-afe1-06db7b0cfc34",
   "metadata": {},
   "outputs": [
    {
     "name": "stdout",
     "output_type": "stream",
     "text": [
      "Total transactions: 6362620\n"
     ]
    }
   ],
   "source": [
    "# Load in Fraud Transaction data\n",
    "with open(\"Fraud.json\", \"r\") as file:\n",
    "    fraud_data_str = file.read()\n",
    "\n",
    "fraud_data_json = json.loads(fraud_data_str)\n",
    "\n",
    "print(f\"Total transactions: {len(fraud_data_json)}\")"
   ]
  },
  {
   "cell_type": "code",
   "execution_count": 31,
   "id": "375cd8a8-3019-47d3-8898-ff4524f45472",
   "metadata": {},
   "outputs": [],
   "source": [
    "# Convert numerical fields\n",
    "for i in range(len(fraud_data_json)):\n",
    "    for field in [\"step\", \"amount\", \"oldbalanceOrg\", \"newbalanceOrig\", \"oldbalanceDest\", \"isFraud\", \"isFlaggedFraud\"]:\n",
    "        fraud_data_json[i][field] = float(fraud_data_json[i][field])"
   ]
  },
  {
   "cell_type": "markdown",
   "id": "5f99d407",
   "metadata": {},
   "source": [
    "### Alternatively, you can import a csv into mongodb\n",
    "\n",
    "cd into directory where Fraud.csv is:\n",
    "\n",
    "mongoimport --type csv -d Fraud -c FraudData --headerline Fraud.csv"
   ]
  },
  {
   "cell_type": "markdown",
   "id": "b9276e95-fd03-46e2-b0b2-6b25458fe719",
   "metadata": {},
   "source": [
    "### Uploading transaction data to MongoDB"
   ]
  },
  {
   "cell_type": "code",
   "execution_count": 33,
   "id": "7587a1d7-b73f-472c-aa11-df23ef5118ed",
   "metadata": {},
   "outputs": [],
   "source": [
    "# Create client and load in Fraud database\n",
    "client = pymongo.MongoClient()\n",
    "db = client[\"Fraud\"]\n",
    "fraud_data = db[\"FraudData\"]\n",
    "\n",
    "# Drop all stored documents\n",
    "# fraud_data.drop()"
   ]
  },
  {
   "cell_type": "code",
   "execution_count": 35,
   "id": "ba97e9db-47a3-492a-82fb-f3a1d516c762",
   "metadata": {},
   "outputs": [],
   "source": [
    "# Insert all of the transaction JSONs into the database\n",
    "# results = fraud_data.insert_many(fraud_data_json)"
   ]
  },
  {
   "cell_type": "markdown",
   "id": "4c3fc478-0a88-4151-aed3-e86a45507376",
   "metadata": {},
   "source": [
    "### Example document for a transaction:"
   ]
  },
  {
   "cell_type": "code",
   "execution_count": 36,
   "id": "b8115a85-73ca-4ddc-bdb3-e7973fbd4810",
   "metadata": {},
   "outputs": [
    {
     "data": {
      "text/plain": [
       "{'_id': ObjectId('62579d2e859a15c694d31f1a'),\n",
       " 'step': 1.0,\n",
       " 'type': 'PAYMENT',\n",
       " 'amount': 9839.64,\n",
       " 'nameOrig': 'C1231006815',\n",
       " 'oldbalanceOrg': 170136.0,\n",
       " 'newbalanceOrig': 160296.36,\n",
       " 'nameDest': 'M1979787155',\n",
       " 'oldbalanceDest': 0.0,\n",
       " 'newbalanceDest': '0.0',\n",
       " 'isFraud': 0.0,\n",
       " 'isFlaggedFraud': 0.0}"
      ]
     },
     "execution_count": 36,
     "metadata": {},
     "output_type": "execute_result"
    }
   ],
   "source": [
    "fraud_data.find_one()"
   ]
  },
  {
   "cell_type": "markdown",
   "id": "a98bf507-cabd-4795-ab44-84ba47a5aee7",
   "metadata": {
    "tags": []
   },
   "source": [
    "### Total documents:"
   ]
  },
  {
   "cell_type": "code",
   "execution_count": 37,
   "id": "3cc313f8-644c-416b-af5e-5feb62c71f99",
   "metadata": {},
   "outputs": [
    {
     "data": {
      "text/plain": [
       "6362620"
      ]
     },
     "execution_count": 37,
     "metadata": {},
     "output_type": "execute_result"
    }
   ],
   "source": [
    "fraud_data.count_documents({})"
   ]
  },
  {
   "cell_type": "markdown",
   "id": "2f29492d-48b8-4c0f-a779-ba4b2f08a8fd",
   "metadata": {},
   "source": [
    "## Data Exploration"
   ]
  },
  {
   "cell_type": "markdown",
   "id": "dbd54c63-750d-47ec-9286-14ffec90efd9",
   "metadata": {},
   "source": [
    "### Helper Functions"
   ]
  },
  {
   "cell_type": "code",
   "execution_count": 38,
   "id": "f4709a14-2d46-4dd2-a786-e40c4c8f54a5",
   "metadata": {},
   "outputs": [],
   "source": [
    "def cursor_df(cursor: pymongo.command_cursor.CommandCursor) -> pd.DataFrame:\n",
    "    \"\"\"\n",
    "    Convert pymongo results cursor to Pandas DataFrame\n",
    "    \n",
    "    :param cursor: Pymongo results cursor\n",
    "    :results: Pandas DataFrame with results from cursor\n",
    "    \"\"\"\n",
    "    return pd.DataFrame(list(cursor))"
   ]
  },
  {
   "cell_type": "markdown",
   "id": "f9e50efa-da35-44d3-9bcc-1b07c73da104",
   "metadata": {},
   "source": [
    "### Count of fraudulent transactions:"
   ]
  },
  {
   "cell_type": "code",
   "execution_count": 39,
   "id": "c28f4aa5-74f1-44ff-bad1-0bd340d23772",
   "metadata": {},
   "outputs": [
    {
     "data": {
      "text/html": [
       "<div>\n",
       "<style scoped>\n",
       "    .dataframe tbody tr th:only-of-type {\n",
       "        vertical-align: middle;\n",
       "    }\n",
       "\n",
       "    .dataframe tbody tr th {\n",
       "        vertical-align: top;\n",
       "    }\n",
       "\n",
       "    .dataframe thead th {\n",
       "        text-align: right;\n",
       "    }\n",
       "</style>\n",
       "<table border=\"1\" class=\"dataframe\">\n",
       "  <thead>\n",
       "    <tr style=\"text-align: right;\">\n",
       "      <th></th>\n",
       "      <th>_id</th>\n",
       "      <th>count</th>\n",
       "    </tr>\n",
       "  </thead>\n",
       "  <tbody>\n",
       "    <tr>\n",
       "      <th>0</th>\n",
       "      <td>0.0</td>\n",
       "      <td>6354407</td>\n",
       "    </tr>\n",
       "    <tr>\n",
       "      <th>1</th>\n",
       "      <td>1.0</td>\n",
       "      <td>8213</td>\n",
       "    </tr>\n",
       "  </tbody>\n",
       "</table>\n",
       "</div>"
      ],
      "text/plain": [
       "   _id    count\n",
       "0  0.0  6354407\n",
       "1  1.0     8213"
      ]
     },
     "execution_count": 39,
     "metadata": {},
     "output_type": "execute_result"
    }
   ],
   "source": [
    "# Group by if it is fraud, counting the number of transactions\n",
    "stage_group_fraud = {\n",
    "    \"$group\": {\n",
    "        \"_id\": \"$isFraud\", \n",
    "        \"count\": {\"$sum\": 1}\n",
    "    }\n",
    "}\n",
    "\n",
    "pipeline = [\n",
    "    stage_group_fraud\n",
    "]\n",
    "\n",
    "results = fraud_data.aggregate(pipeline)\n",
    "\n",
    "cursor_df(results)"
   ]
  },
  {
   "cell_type": "markdown",
   "id": "662657c5-8267-4e0e-8819-267a3015e5d0",
   "metadata": {},
   "source": [
    "The dataset is very imbalanced with over 99.8% non-fraud transactions."
   ]
  },
  {
   "cell_type": "markdown",
   "id": "92f7d27c-f67c-4702-ad45-3b23f605543d",
   "metadata": {},
   "source": [
    "### Count of each transaction type:"
   ]
  },
  {
   "cell_type": "code",
   "execution_count": 40,
   "id": "522f1444-0dd7-4859-8741-6b368bd614ce",
   "metadata": {},
   "outputs": [
    {
     "data": {
      "text/html": [
       "<div>\n",
       "<style scoped>\n",
       "    .dataframe tbody tr th:only-of-type {\n",
       "        vertical-align: middle;\n",
       "    }\n",
       "\n",
       "    .dataframe tbody tr th {\n",
       "        vertical-align: top;\n",
       "    }\n",
       "\n",
       "    .dataframe thead th {\n",
       "        text-align: right;\n",
       "    }\n",
       "</style>\n",
       "<table border=\"1\" class=\"dataframe\">\n",
       "  <thead>\n",
       "    <tr style=\"text-align: right;\">\n",
       "      <th></th>\n",
       "      <th>transaction_type</th>\n",
       "      <th>count</th>\n",
       "    </tr>\n",
       "  </thead>\n",
       "  <tbody>\n",
       "    <tr>\n",
       "      <th>0</th>\n",
       "      <td>CASH_OUT</td>\n",
       "      <td>2237500</td>\n",
       "    </tr>\n",
       "    <tr>\n",
       "      <th>1</th>\n",
       "      <td>DEBIT</td>\n",
       "      <td>41432</td>\n",
       "    </tr>\n",
       "    <tr>\n",
       "      <th>2</th>\n",
       "      <td>CASH_IN</td>\n",
       "      <td>1399284</td>\n",
       "    </tr>\n",
       "    <tr>\n",
       "      <th>3</th>\n",
       "      <td>TRANSFER</td>\n",
       "      <td>532909</td>\n",
       "    </tr>\n",
       "    <tr>\n",
       "      <th>4</th>\n",
       "      <td>PAYMENT</td>\n",
       "      <td>2151495</td>\n",
       "    </tr>\n",
       "  </tbody>\n",
       "</table>\n",
       "</div>"
      ],
      "text/plain": [
       "  transaction_type    count\n",
       "0         CASH_OUT  2237500\n",
       "1            DEBIT    41432\n",
       "2          CASH_IN  1399284\n",
       "3         TRANSFER   532909\n",
       "4          PAYMENT  2151495"
      ]
     },
     "execution_count": 40,
     "metadata": {},
     "output_type": "execute_result"
    }
   ],
   "source": [
    "# Group by transaction type, counting the number of transactions\n",
    "stage_group_trans = {\n",
    "    \"$group\": {\n",
    "        \"_id\": {\n",
    "            \"transaction_type\": \"$type\"\n",
    "        },\n",
    "        \"count\": {\"$sum\": 1}\n",
    "    }\n",
    "}\n",
    "\n",
    "stage_project = {\n",
    "    \"$project\": {\n",
    "        \"transaction_type\": \"$_id.transaction_type\",\n",
    "        \"count\": \"$count\",\n",
    "        \"_id\": 0\n",
    "    }\n",
    "}\n",
    "\n",
    "pipeline = [\n",
    "    stage_group_trans,\n",
    "    stage_project\n",
    "]\n",
    "\n",
    "results = fraud_data.aggregate(pipeline)\n",
    "\n",
    "cursor_df(results)"
   ]
  },
  {
   "cell_type": "markdown",
   "id": "a021ea45-bf71-4bd5-874a-a7748a316dad",
   "metadata": {},
   "source": [
    "### Fraud count by transaction:"
   ]
  },
  {
   "cell_type": "code",
   "execution_count": 41,
   "id": "95ecc9e7-41a5-4fcf-aa33-d6715c47f31b",
   "metadata": {},
   "outputs": [
    {
     "data": {
      "text/html": [
       "<div>\n",
       "<style scoped>\n",
       "    .dataframe tbody tr th:only-of-type {\n",
       "        vertical-align: middle;\n",
       "    }\n",
       "\n",
       "    .dataframe tbody tr th {\n",
       "        vertical-align: top;\n",
       "    }\n",
       "\n",
       "    .dataframe thead th {\n",
       "        text-align: right;\n",
       "    }\n",
       "</style>\n",
       "<table border=\"1\" class=\"dataframe\">\n",
       "  <thead>\n",
       "    <tr style=\"text-align: right;\">\n",
       "      <th></th>\n",
       "      <th>transaction_type</th>\n",
       "      <th>is_fraud</th>\n",
       "      <th>count</th>\n",
       "    </tr>\n",
       "  </thead>\n",
       "  <tbody>\n",
       "    <tr>\n",
       "      <th>0</th>\n",
       "      <td>CASH_IN</td>\n",
       "      <td>0.0</td>\n",
       "      <td>1399284</td>\n",
       "    </tr>\n",
       "    <tr>\n",
       "      <th>1</th>\n",
       "      <td>CASH_OUT</td>\n",
       "      <td>0.0</td>\n",
       "      <td>2233384</td>\n",
       "    </tr>\n",
       "    <tr>\n",
       "      <th>2</th>\n",
       "      <td>CASH_OUT</td>\n",
       "      <td>1.0</td>\n",
       "      <td>4116</td>\n",
       "    </tr>\n",
       "    <tr>\n",
       "      <th>3</th>\n",
       "      <td>DEBIT</td>\n",
       "      <td>0.0</td>\n",
       "      <td>41432</td>\n",
       "    </tr>\n",
       "    <tr>\n",
       "      <th>4</th>\n",
       "      <td>PAYMENT</td>\n",
       "      <td>0.0</td>\n",
       "      <td>2151495</td>\n",
       "    </tr>\n",
       "    <tr>\n",
       "      <th>5</th>\n",
       "      <td>TRANSFER</td>\n",
       "      <td>0.0</td>\n",
       "      <td>528812</td>\n",
       "    </tr>\n",
       "    <tr>\n",
       "      <th>6</th>\n",
       "      <td>TRANSFER</td>\n",
       "      <td>1.0</td>\n",
       "      <td>4097</td>\n",
       "    </tr>\n",
       "  </tbody>\n",
       "</table>\n",
       "</div>"
      ],
      "text/plain": [
       "  transaction_type  is_fraud    count\n",
       "0          CASH_IN       0.0  1399284\n",
       "1         CASH_OUT       0.0  2233384\n",
       "2         CASH_OUT       1.0     4116\n",
       "3            DEBIT       0.0    41432\n",
       "4          PAYMENT       0.0  2151495\n",
       "5         TRANSFER       0.0   528812\n",
       "6         TRANSFER       1.0     4097"
      ]
     },
     "execution_count": 41,
     "metadata": {},
     "output_type": "execute_result"
    }
   ],
   "source": [
    "# Group by transaction type, fraud, counting the number of transactions\n",
    "stage_group_trans = {\n",
    "    \"$group\": {\n",
    "        \"_id\": {\n",
    "            \"transaction_type\": \"$type\",\n",
    "            \"is_fraud\": \"$isFraud\"\n",
    "        },\n",
    "        \"count\": {\"$sum\": 1}\n",
    "    }\n",
    "}\n",
    "\n",
    "stage_project = {\n",
    "    \"$project\": {\n",
    "        \"transaction_type\": \"$_id.transaction_type\",\n",
    "        \"is_fraud\": \"$_id.is_fraud\",\n",
    "        \"count\": \"$count\",\n",
    "        \"_id\": 0\n",
    "    }\n",
    "}\n",
    "\n",
    "stage_sort = {\n",
    "    \"$sort\": OrderedDict([(\"transaction_type\", 1), (\"is_fraud\", 1)])\n",
    "}\n",
    "\n",
    "pipeline = [\n",
    "    stage_group_trans,\n",
    "    stage_project,\n",
    "    stage_sort\n",
    "]\n",
    "\n",
    "results = fraud_data.aggregate(pipeline)\n",
    "\n",
    "cursor_df(results)"
   ]
  },
  {
   "cell_type": "markdown",
   "id": "1e9f9f32-040d-4c86-b647-ae82f4b45564",
   "metadata": {},
   "source": [
    "The only transactions that are fraudulent are __CASH_OUT__ and __TRANSFER__ transactions."
   ]
  },
  {
   "cell_type": "markdown",
   "id": "9fdb69c9-d702-4689-aa84-1830cd45185f",
   "metadata": {},
   "source": [
    "### Accounts commiting fraudulent transactions"
   ]
  },
  {
   "cell_type": "code",
   "execution_count": 48,
   "id": "dca814c8-3918-492b-a7bc-cde13cc81013",
   "metadata": {
    "tags": []
   },
   "outputs": [
    {
     "data": {
      "text/plain": [
       "8213"
      ]
     },
     "execution_count": 48,
     "metadata": {},
     "output_type": "execute_result"
    }
   ],
   "source": [
    "# Filter only for transactions that are fraud\n",
    "stage_filter_fraud = {\n",
    "    \"$match\": {\n",
    "        \"isFraud\": {\n",
    "            \"$eq\": 1,\n",
    "        }\n",
    "    }\n",
    "}\n",
    "\n",
    "stage_project = {\n",
    "    \"$project\": {\n",
    "        \"origin_account\": \"$nameOrig\",\n",
    "        \"_id\": 0\n",
    "    }\n",
    "}\n",
    "    \n",
    "pipeline = [\n",
    "    stage_filter_fraud,\n",
    "    stage_project\n",
    "]\n",
    "\n",
    "results = fraud_data.aggregate(pipeline)\n",
    "\n",
    "fraud_accounts = cursor_df(results)[\"origin_account\"].to_list()\n",
    "len(fraud_accounts)"
   ]
  },
  {
   "cell_type": "markdown",
   "id": "a1eb6c7e-56ba-422d-8f75-4c65f4e9e0b4",
   "metadata": {},
   "source": [
    "There are no accounts that commit multiple fraudulent transactions, with there being 8,213 total fraud transactions commited by 8,213 accounts."
   ]
  },
  {
   "cell_type": "markdown",
   "id": "7d82160b-dfd2-4921-86d5-857b51c83d54",
   "metadata": {},
   "source": [
    "### Non-fraud transactions commited by fraudulent agents"
   ]
  },
  {
   "cell_type": "code",
   "execution_count": 51,
   "id": "d02af0d1-c41a-413b-a3c2-ec47252e2120",
   "metadata": {},
   "outputs": [
    {
     "data": {
      "text/plain": [
       "28"
      ]
     },
     "execution_count": 51,
     "metadata": {},
     "output_type": "execute_result"
    }
   ],
   "source": [
    "stage_filter_non_fraud = {\n",
    "    \"$match\": {\n",
    "        \"$and\": [{\n",
    "            \"$or\": [{\"nameOrig\": {\"$in\": fraud_accounts}},\n",
    "                    {\"nameDest\": {\"$in\": fraud_accounts}}]\n",
    "        }, \n",
    "            {\"isFraud\": {\"$eq\": 0}}]\n",
    "    }\n",
    "}\n",
    "    \n",
    "pipeline = [\n",
    "    stage_filter_non_fraud\n",
    "]\n",
    "\n",
    "results = fraud_data.aggregate(pipeline)\n",
    "\n",
    "len(cursor_df(results))"
   ]
  },
  {
   "cell_type": "markdown",
   "id": "afe9e52d-b31e-4787-9583-3f32e3901d52",
   "metadata": {},
   "source": [
    "There are only 28 non-fraudulent transactions that involve an account that commited a fraudulent transaction."
   ]
  },
  {
   "cell_type": "markdown",
   "id": "571fb796-f506-44a6-b9fb-34da1f06d35b",
   "metadata": {},
   "source": [
    "## PAYMENTS"
   ]
  },
  {
   "cell_type": "markdown",
   "id": "80f07f5c-7a8d-4027-b031-442117714774",
   "metadata": {},
   "source": [
    "* No negative payments\n",
    "* All payments are to merchants\n",
    "* 2,151,495 payments total\n",
    "    * 774,245 payments with 0 as old and new balance\n",
    "        * Change both balance to np.nan?\n",
    "    * 1,050,371 payments with non-zero old and new balance\n",
    "        * All amounts - oldbalanceOrg - newbalanceOrig < .2\n",
    "    * 326,879 payments with non-zero old balance and 0 as new balance\n",
    "        * All payments where amount > newbalanceOrig \n",
    "        * Change newbalanceOrig to negative? New column for declined?"
   ]
  },
  {
   "cell_type": "code",
   "execution_count": 89,
   "id": "f2af3a8d-7304-407f-85c7-a78b49998d07",
   "metadata": {},
   "outputs": [
    {
     "data": {
      "text/html": [
       "<div>\n",
       "<style scoped>\n",
       "    .dataframe tbody tr th:only-of-type {\n",
       "        vertical-align: middle;\n",
       "    }\n",
       "\n",
       "    .dataframe tbody tr th {\n",
       "        vertical-align: top;\n",
       "    }\n",
       "\n",
       "    .dataframe thead th {\n",
       "        text-align: right;\n",
       "    }\n",
       "</style>\n",
       "<table border=\"1\" class=\"dataframe\">\n",
       "  <thead>\n",
       "    <tr style=\"text-align: right;\">\n",
       "      <th></th>\n",
       "      <th>step</th>\n",
       "      <th>amount</th>\n",
       "      <th>oldbalanceOrg</th>\n",
       "      <th>newbalanceOrig</th>\n",
       "      <th>oldbalanceDest</th>\n",
       "      <th>newbalanceDest</th>\n",
       "      <th>isFraud</th>\n",
       "      <th>isFlaggedFraud</th>\n",
       "      <th>merchant_dest</th>\n",
       "      <th>orig_balance_change</th>\n",
       "      <th>dest_balance_change</th>\n",
       "    </tr>\n",
       "  </thead>\n",
       "  <tbody>\n",
       "    <tr>\n",
       "      <th>count</th>\n",
       "      <td>2.151495e+06</td>\n",
       "      <td>2.151495e+06</td>\n",
       "      <td>2.151495e+06</td>\n",
       "      <td>2.151495e+06</td>\n",
       "      <td>0.0</td>\n",
       "      <td>0.0</td>\n",
       "      <td>2151495.0</td>\n",
       "      <td>2151495.0</td>\n",
       "      <td>2151495.0</td>\n",
       "      <td>2.151495e+06</td>\n",
       "      <td>0.0</td>\n",
       "    </tr>\n",
       "    <tr>\n",
       "      <th>mean</th>\n",
       "      <td>2.443782e+02</td>\n",
       "      <td>1.305760e+04</td>\n",
       "      <td>6.821683e+04</td>\n",
       "      <td>6.183789e+04</td>\n",
       "      <td>NaN</td>\n",
       "      <td>NaN</td>\n",
       "      <td>0.0</td>\n",
       "      <td>0.0</td>\n",
       "      <td>1.0</td>\n",
       "      <td>6.378937e+03</td>\n",
       "      <td>NaN</td>\n",
       "    </tr>\n",
       "    <tr>\n",
       "      <th>std</th>\n",
       "      <td>1.426951e+02</td>\n",
       "      <td>1.255645e+04</td>\n",
       "      <td>1.989911e+05</td>\n",
       "      <td>1.969915e+05</td>\n",
       "      <td>NaN</td>\n",
       "      <td>NaN</td>\n",
       "      <td>0.0</td>\n",
       "      <td>0.0</td>\n",
       "      <td>0.0</td>\n",
       "      <td>9.529503e+03</td>\n",
       "      <td>NaN</td>\n",
       "    </tr>\n",
       "    <tr>\n",
       "      <th>min</th>\n",
       "      <td>1.000000e+00</td>\n",
       "      <td>2.000000e-02</td>\n",
       "      <td>0.000000e+00</td>\n",
       "      <td>0.000000e+00</td>\n",
       "      <td>NaN</td>\n",
       "      <td>NaN</td>\n",
       "      <td>0.0</td>\n",
       "      <td>0.0</td>\n",
       "      <td>1.0</td>\n",
       "      <td>0.000000e+00</td>\n",
       "      <td>NaN</td>\n",
       "    </tr>\n",
       "    <tr>\n",
       "      <th>25%</th>\n",
       "      <td>1.560000e+02</td>\n",
       "      <td>4.383820e+03</td>\n",
       "      <td>0.000000e+00</td>\n",
       "      <td>0.000000e+00</td>\n",
       "      <td>NaN</td>\n",
       "      <td>NaN</td>\n",
       "      <td>0.0</td>\n",
       "      <td>0.0</td>\n",
       "      <td>1.0</td>\n",
       "      <td>0.000000e+00</td>\n",
       "      <td>NaN</td>\n",
       "    </tr>\n",
       "    <tr>\n",
       "      <th>50%</th>\n",
       "      <td>2.490000e+02</td>\n",
       "      <td>9.482190e+03</td>\n",
       "      <td>1.053000e+04</td>\n",
       "      <td>0.000000e+00</td>\n",
       "      <td>NaN</td>\n",
       "      <td>NaN</td>\n",
       "      <td>0.0</td>\n",
       "      <td>0.0</td>\n",
       "      <td>1.0</td>\n",
       "      <td>2.135510e+03</td>\n",
       "      <td>NaN</td>\n",
       "    </tr>\n",
       "    <tr>\n",
       "      <th>75%</th>\n",
       "      <td>3.350000e+02</td>\n",
       "      <td>1.756122e+04</td>\n",
       "      <td>6.088300e+04</td>\n",
       "      <td>4.965413e+04</td>\n",
       "      <td>NaN</td>\n",
       "      <td>NaN</td>\n",
       "      <td>0.0</td>\n",
       "      <td>0.0</td>\n",
       "      <td>1.0</td>\n",
       "      <td>9.713065e+03</td>\n",
       "      <td>NaN</td>\n",
       "    </tr>\n",
       "    <tr>\n",
       "      <th>max</th>\n",
       "      <td>7.180000e+02</td>\n",
       "      <td>2.386380e+05</td>\n",
       "      <td>4.368662e+07</td>\n",
       "      <td>4.367380e+07</td>\n",
       "      <td>NaN</td>\n",
       "      <td>NaN</td>\n",
       "      <td>0.0</td>\n",
       "      <td>0.0</td>\n",
       "      <td>1.0</td>\n",
       "      <td>1.851225e+05</td>\n",
       "      <td>NaN</td>\n",
       "    </tr>\n",
       "  </tbody>\n",
       "</table>\n",
       "</div>"
      ],
      "text/plain": [
       "               step        amount  oldbalanceOrg  newbalanceOrig  \\\n",
       "count  2.151495e+06  2.151495e+06   2.151495e+06    2.151495e+06   \n",
       "mean   2.443782e+02  1.305760e+04   6.821683e+04    6.183789e+04   \n",
       "std    1.426951e+02  1.255645e+04   1.989911e+05    1.969915e+05   \n",
       "min    1.000000e+00  2.000000e-02   0.000000e+00    0.000000e+00   \n",
       "25%    1.560000e+02  4.383820e+03   0.000000e+00    0.000000e+00   \n",
       "50%    2.490000e+02  9.482190e+03   1.053000e+04    0.000000e+00   \n",
       "75%    3.350000e+02  1.756122e+04   6.088300e+04    4.965413e+04   \n",
       "max    7.180000e+02  2.386380e+05   4.368662e+07    4.367380e+07   \n",
       "\n",
       "       oldbalanceDest  newbalanceDest    isFraud  isFlaggedFraud  \\\n",
       "count             0.0             0.0  2151495.0       2151495.0   \n",
       "mean              NaN             NaN        0.0             0.0   \n",
       "std               NaN             NaN        0.0             0.0   \n",
       "min               NaN             NaN        0.0             0.0   \n",
       "25%               NaN             NaN        0.0             0.0   \n",
       "50%               NaN             NaN        0.0             0.0   \n",
       "75%               NaN             NaN        0.0             0.0   \n",
       "max               NaN             NaN        0.0             0.0   \n",
       "\n",
       "       merchant_dest  orig_balance_change  dest_balance_change  \n",
       "count      2151495.0         2.151495e+06                  0.0  \n",
       "mean             1.0         6.378937e+03                  NaN  \n",
       "std              0.0         9.529503e+03                  NaN  \n",
       "min              1.0         0.000000e+00                  NaN  \n",
       "25%              1.0         0.000000e+00                  NaN  \n",
       "50%              1.0         2.135510e+03                  NaN  \n",
       "75%              1.0         9.713065e+03                  NaN  \n",
       "max              1.0         1.851225e+05                  NaN  "
      ]
     },
     "execution_count": 89,
     "metadata": {},
     "output_type": "execute_result"
    }
   ],
   "source": [
    "pmt = df.loc[(df[\"type\"] == \"PAYMENT\")]\n",
    "pmt.describe()"
   ]
  },
  {
   "cell_type": "code",
   "execution_count": 147,
   "id": "d608f11b-85db-4974-b386-40703656a264",
   "metadata": {},
   "outputs": [
    {
     "name": "stdout",
     "output_type": "stream",
     "text": [
      "All payments that have 0 as old and new balance\n"
     ]
    },
    {
     "data": {
      "text/plain": [
       "774245"
      ]
     },
     "execution_count": 147,
     "metadata": {},
     "output_type": "execute_result"
    }
   ],
   "source": [
    "print(\"All payments that have 0 as old and new balance:\")\n",
    "len(pmt.loc[(pmt[\"oldbalanceOrg\"] == 0) & (pmt[\"newbalanceOrig\"] == 0)])"
   ]
  },
  {
   "cell_type": "code",
   "execution_count": 150,
   "id": "0eafe091-90ee-407e-95e7-468ab820babf",
   "metadata": {},
   "outputs": [
    {
     "name": "stdout",
     "output_type": "stream",
     "text": [
      "All payments that have an old balance, no new balance:\n"
     ]
    },
    {
     "data": {
      "text/plain": [
       "326879"
      ]
     },
     "execution_count": 150,
     "metadata": {},
     "output_type": "execute_result"
    }
   ],
   "source": [
    "print(\"All payments that have an old balance, no new balance:\")\n",
    "pmt_no_new_bal = pmt.loc[(pmt[\"oldbalanceOrg\"] > 0) & (pmt[\"newbalanceOrig\"] == 0)]\n",
    "len(pmt_no_new_bal)"
   ]
  },
  {
   "cell_type": "code",
   "execution_count": 149,
   "id": "c1e0c924-819c-4671-b8d8-6ebff729e935",
   "metadata": {},
   "outputs": [
    {
     "name": "stdout",
     "output_type": "stream",
     "text": [
      "All payments with no new balance and enough original balance to cover amount\n"
     ]
    },
    {
     "data": {
      "text/plain": [
       "0"
      ]
     },
     "execution_count": 149,
     "metadata": {},
     "output_type": "execute_result"
    }
   ],
   "source": [
    "print(\"All payments with no new balance and enough original balance to cover amount:\")\n",
    "len(pmt_no_new_bal.loc[pmt_no_new_bal[\"oldbalanceOrg\"] > pmt_no_new_bal[\"amount\"]])"
   ]
  },
  {
   "cell_type": "code",
   "execution_count": 152,
   "id": "fbe90fa2-b95e-438d-ac82-129fd956132c",
   "metadata": {},
   "outputs": [
    {
     "name": "stdout",
     "output_type": "stream",
     "text": [
      "All payments that have both origin balance amounts:\n"
     ]
    },
    {
     "data": {
      "text/plain": [
       "1050371"
      ]
     },
     "execution_count": 152,
     "metadata": {},
     "output_type": "execute_result"
    }
   ],
   "source": [
    "print(\"All payments that have both origin balance amounts:\")\n",
    "payment_bal_chg = pmt.loc[(pmt[\"oldbalanceOrg\"] > 0) & (pmt[\"newbalanceOrig\"] > 0)]\n",
    "\n",
    "len(payment_bal_chg.loc[(abs(pmt[\"amount\"] - pmt[\"orig_balance_change\"])) >= 0])"
   ]
  },
  {
   "cell_type": "code",
   "execution_count": 154,
   "id": "9a8feb2a-4d38-43eb-82f3-6e9526a0c162",
   "metadata": {},
   "outputs": [
    {
     "name": "stdout",
     "output_type": "stream",
     "text": [
      "All payments that have both origin balance amounts greater than .2 difference:\n"
     ]
    },
    {
     "data": {
      "text/plain": [
       "0"
      ]
     },
     "execution_count": 154,
     "metadata": {},
     "output_type": "execute_result"
    }
   ],
   "source": [
    "print(\"All payments that have both origin balance amounts greater than .2 difference:\")\n",
    "len(payment_bal_chg.loc[(abs(pmt[\"amount\"] - pmt[\"orig_balance_change\"])) > .2])"
   ]
  }
 ],
 "metadata": {
  "kernelspec": {
   "display_name": "Python 3 (ipykernel)",
   "language": "python",
   "name": "python3"
  },
  "language_info": {
   "codemirror_mode": {
    "name": "ipython",
    "version": 3
   },
   "file_extension": ".py",
   "mimetype": "text/x-python",
   "name": "python",
   "nbconvert_exporter": "python",
   "pygments_lexer": "ipython3",
   "version": "3.10.2"
  }
 },
 "nbformat": 4,
 "nbformat_minor": 5
}
