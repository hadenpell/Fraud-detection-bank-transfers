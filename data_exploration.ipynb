{
 "cells": [
  {
   "cell_type": "code",
   "execution_count": 26,
   "id": "4ff0a58d-65ff-4bc4-bfca-604131584c7a",
   "metadata": {},
   "outputs": [],
   "source": [
    "import pymongo\n",
    "import pandas as pd\n",
    "import numpy as np\n",
    "import json\n",
    "\n",
    "from collections import OrderedDict"
   ]
  },
  {
   "cell_type": "markdown",
   "id": "0a455235-38a3-4a93-bcc1-24fec64f38b1",
   "metadata": {},
   "source": [
    "# Data Exploration\n",
    "\n",
    "The Fraudulent Transactions dataset (sourced from https://www.kaggle.com/datasets/chitwanmanchanda/fraudulent-transactions-data) contains 6,362,620 transactions with the following features:  \n",
    "* __step__ - maps a unit of time in the real world. In this case 1 step is 1 hour of time. Total steps 744 (30 days simulation).\n",
    "\n",
    "* __type__ - CASH-IN, CASH-OUT, DEBIT, PAYMENT and TRANSFER.\n",
    "\n",
    "* __amount__ - amount of the transaction in local currency.\n",
    "\n",
    "* __nameOrig__ - customer who started the transaction\n",
    "\n",
    "* __oldbalanceOrg__ - initial balance before the transaction\n",
    "\n",
    "* __newbalanceOrig__ - new balance after the transaction\n",
    "\n",
    "* __nameDest__ - customer who is the recipient of the transaction\n",
    "\n",
    "* __oldbalanceDest__ - initial balance recipient before the transaction. Note that there is not information for customers that start with M (Merchants).\n",
    "\n",
    "* __newbalanceDest__ - new balance recipient after the transaction. Note that there is not information for customers that start with M (Merchants).\n",
    "\n",
    "* __isFraud__ - This is the transactions made by the fraudulent agents inside the simulation. In this specific dataset the fraudulent behavior of the agents aims to profit by taking control or customers accounts and try to empty the funds by transferring to another account and then cashing out of the system.\n",
    "\n",
    "* __isFlaggedFraud__ - The business model aims to control massive transfers from one account to another and flags illegal attempts. An illegal attempt in this dataset is an attempt to transfer more than 200.000 in a single transaction."
   ]
  },
  {
   "cell_type": "markdown",
   "id": "b9276e95-fd03-46e2-b0b2-6b25458fe719",
   "metadata": {},
   "source": [
    "### Uploading transaction data to MongoDB"
   ]
  },
  {
   "cell_type": "code",
   "execution_count": 33,
   "id": "7587a1d7-b73f-472c-aa11-df23ef5118ed",
   "metadata": {},
   "outputs": [],
   "source": [
    "# Create client and load in Fraud database\n",
    "client = pymongo.MongoClient()\n",
    "db = client[\"Fraud\"]\n",
    "fraud_data = db[\"FraudData\"]\n",
    "\n",
    "# Drop all stored documents\n",
    "# fraud_data.drop()"
   ]
  },
  {
   "cell_type": "markdown",
   "id": "4c3fc478-0a88-4151-aed3-e86a45507376",
   "metadata": {},
   "source": [
    "### Example document for a transaction:"
   ]
  },
  {
   "cell_type": "code",
   "execution_count": 36,
   "id": "b8115a85-73ca-4ddc-bdb3-e7973fbd4810",
   "metadata": {},
   "outputs": [
    {
     "data": {
      "text/plain": [
       "{'_id': ObjectId('62579d2e859a15c694d31f1a'),\n",
       " 'step': 1.0,\n",
       " 'type': 'PAYMENT',\n",
       " 'amount': 9839.64,\n",
       " 'nameOrig': 'C1231006815',\n",
       " 'oldbalanceOrg': 170136.0,\n",
       " 'newbalanceOrig': 160296.36,\n",
       " 'nameDest': 'M1979787155',\n",
       " 'oldbalanceDest': 0.0,\n",
       " 'newbalanceDest': '0.0',\n",
       " 'isFraud': 0.0,\n",
       " 'isFlaggedFraud': 0.0}"
      ]
     },
     "execution_count": 36,
     "metadata": {},
     "output_type": "execute_result"
    }
   ],
   "source": [
    "fraud_data.find_one()"
   ]
  },
  {
   "cell_type": "markdown",
   "id": "a98bf507-cabd-4795-ab44-84ba47a5aee7",
   "metadata": {
    "tags": []
   },
   "source": [
    "### Total documents:"
   ]
  },
  {
   "cell_type": "code",
   "execution_count": 37,
   "id": "3cc313f8-644c-416b-af5e-5feb62c71f99",
   "metadata": {},
   "outputs": [
    {
     "data": {
      "text/plain": [
       "6362620"
      ]
     },
     "execution_count": 37,
     "metadata": {},
     "output_type": "execute_result"
    }
   ],
   "source": [
    "fraud_data.count_documents({})"
   ]
  },
  {
   "cell_type": "markdown",
   "id": "2f29492d-48b8-4c0f-a779-ba4b2f08a8fd",
   "metadata": {},
   "source": [
    "## Data Exploration"
   ]
  },
  {
   "cell_type": "markdown",
   "id": "dbd54c63-750d-47ec-9286-14ffec90efd9",
   "metadata": {},
   "source": [
    "### Helper Functions"
   ]
  },
  {
   "cell_type": "code",
   "execution_count": 38,
   "id": "f4709a14-2d46-4dd2-a786-e40c4c8f54a5",
   "metadata": {},
   "outputs": [],
   "source": [
    "def cursor_df(cursor: pymongo.command_cursor.CommandCursor) -> pd.DataFrame:\n",
    "    \"\"\"\n",
    "    Convert pymongo results cursor to Pandas DataFrame\n",
    "    \n",
    "    :param cursor: Pymongo results cursor\n",
    "    :results: Pandas DataFrame with results from cursor\n",
    "    \"\"\"\n",
    "    return pd.DataFrame(list(cursor))"
   ]
  },
  {
   "cell_type": "markdown",
   "id": "f9e50efa-da35-44d3-9bcc-1b07c73da104",
   "metadata": {},
   "source": [
    "### Count of fraudulent transactions:"
   ]
  },
  {
   "cell_type": "code",
   "execution_count": 39,
   "id": "c28f4aa5-74f1-44ff-bad1-0bd340d23772",
   "metadata": {},
   "outputs": [
    {
     "data": {
      "text/html": [
       "<div>\n",
       "<style scoped>\n",
       "    .dataframe tbody tr th:only-of-type {\n",
       "        vertical-align: middle;\n",
       "    }\n",
       "\n",
       "    .dataframe tbody tr th {\n",
       "        vertical-align: top;\n",
       "    }\n",
       "\n",
       "    .dataframe thead th {\n",
       "        text-align: right;\n",
       "    }\n",
       "</style>\n",
       "<table border=\"1\" class=\"dataframe\">\n",
       "  <thead>\n",
       "    <tr style=\"text-align: right;\">\n",
       "      <th></th>\n",
       "      <th>_id</th>\n",
       "      <th>count</th>\n",
       "    </tr>\n",
       "  </thead>\n",
       "  <tbody>\n",
       "    <tr>\n",
       "      <th>0</th>\n",
       "      <td>0.0</td>\n",
       "      <td>6354407</td>\n",
       "    </tr>\n",
       "    <tr>\n",
       "      <th>1</th>\n",
       "      <td>1.0</td>\n",
       "      <td>8213</td>\n",
       "    </tr>\n",
       "  </tbody>\n",
       "</table>\n",
       "</div>"
      ],
      "text/plain": [
       "   _id    count\n",
       "0  0.0  6354407\n",
       "1  1.0     8213"
      ]
     },
     "execution_count": 39,
     "metadata": {},
     "output_type": "execute_result"
    }
   ],
   "source": [
    "# Group by if it is fraud, counting the number of transactions\n",
    "stage_group_fraud = {\n",
    "    \"$group\": {\n",
    "        \"_id\": \"$isFraud\", \n",
    "        \"count\": {\"$sum\": 1}\n",
    "    }\n",
    "}\n",
    "\n",
    "pipeline = [\n",
    "    stage_group_fraud\n",
    "]\n",
    "\n",
    "results = fraud_data.aggregate(pipeline)\n",
    "\n",
    "cursor_df(results)"
   ]
  },
  {
   "cell_type": "markdown",
   "id": "662657c5-8267-4e0e-8819-267a3015e5d0",
   "metadata": {},
   "source": [
    "The dataset is very imbalanced with over 99.8% non-fraud transactions."
   ]
  },
  {
   "cell_type": "markdown",
   "id": "92f7d27c-f67c-4702-ad45-3b23f605543d",
   "metadata": {},
   "source": [
    "### Count of each transaction type:"
   ]
  },
  {
   "cell_type": "code",
   "execution_count": 40,
   "id": "522f1444-0dd7-4859-8741-6b368bd614ce",
   "metadata": {},
   "outputs": [
    {
     "data": {
      "text/html": [
       "<div>\n",
       "<style scoped>\n",
       "    .dataframe tbody tr th:only-of-type {\n",
       "        vertical-align: middle;\n",
       "    }\n",
       "\n",
       "    .dataframe tbody tr th {\n",
       "        vertical-align: top;\n",
       "    }\n",
       "\n",
       "    .dataframe thead th {\n",
       "        text-align: right;\n",
       "    }\n",
       "</style>\n",
       "<table border=\"1\" class=\"dataframe\">\n",
       "  <thead>\n",
       "    <tr style=\"text-align: right;\">\n",
       "      <th></th>\n",
       "      <th>transaction_type</th>\n",
       "      <th>count</th>\n",
       "    </tr>\n",
       "  </thead>\n",
       "  <tbody>\n",
       "    <tr>\n",
       "      <th>0</th>\n",
       "      <td>CASH_OUT</td>\n",
       "      <td>2237500</td>\n",
       "    </tr>\n",
       "    <tr>\n",
       "      <th>1</th>\n",
       "      <td>DEBIT</td>\n",
       "      <td>41432</td>\n",
       "    </tr>\n",
       "    <tr>\n",
       "      <th>2</th>\n",
       "      <td>CASH_IN</td>\n",
       "      <td>1399284</td>\n",
       "    </tr>\n",
       "    <tr>\n",
       "      <th>3</th>\n",
       "      <td>TRANSFER</td>\n",
       "      <td>532909</td>\n",
       "    </tr>\n",
       "    <tr>\n",
       "      <th>4</th>\n",
       "      <td>PAYMENT</td>\n",
       "      <td>2151495</td>\n",
       "    </tr>\n",
       "  </tbody>\n",
       "</table>\n",
       "</div>"
      ],
      "text/plain": [
       "  transaction_type    count\n",
       "0         CASH_OUT  2237500\n",
       "1            DEBIT    41432\n",
       "2          CASH_IN  1399284\n",
       "3         TRANSFER   532909\n",
       "4          PAYMENT  2151495"
      ]
     },
     "execution_count": 40,
     "metadata": {},
     "output_type": "execute_result"
    }
   ],
   "source": [
    "# Group by transaction type, counting the number of transactions\n",
    "stage_group_trans = {\n",
    "    \"$group\": {\n",
    "        \"_id\": {\n",
    "            \"transaction_type\": \"$type\"\n",
    "        },\n",
    "        \"count\": {\"$sum\": 1}\n",
    "    }\n",
    "}\n",
    "\n",
    "stage_project = {\n",
    "    \"$project\": {\n",
    "        \"transaction_type\": \"$_id.transaction_type\",\n",
    "        \"count\": \"$count\",\n",
    "        \"_id\": 0\n",
    "    }\n",
    "}\n",
    "\n",
    "pipeline = [\n",
    "    stage_group_trans,\n",
    "    stage_project\n",
    "]\n",
    "\n",
    "results = fraud_data.aggregate(pipeline)\n",
    "\n",
    "cursor_df(results)"
   ]
  },
  {
   "cell_type": "markdown",
   "id": "a021ea45-bf71-4bd5-874a-a7748a316dad",
   "metadata": {},
   "source": [
    "### Fraud count by transaction:"
   ]
  },
  {
   "cell_type": "code",
   "execution_count": 41,
   "id": "95ecc9e7-41a5-4fcf-aa33-d6715c47f31b",
   "metadata": {},
   "outputs": [
    {
     "data": {
      "text/html": [
       "<div>\n",
       "<style scoped>\n",
       "    .dataframe tbody tr th:only-of-type {\n",
       "        vertical-align: middle;\n",
       "    }\n",
       "\n",
       "    .dataframe tbody tr th {\n",
       "        vertical-align: top;\n",
       "    }\n",
       "\n",
       "    .dataframe thead th {\n",
       "        text-align: right;\n",
       "    }\n",
       "</style>\n",
       "<table border=\"1\" class=\"dataframe\">\n",
       "  <thead>\n",
       "    <tr style=\"text-align: right;\">\n",
       "      <th></th>\n",
       "      <th>transaction_type</th>\n",
       "      <th>is_fraud</th>\n",
       "      <th>count</th>\n",
       "    </tr>\n",
       "  </thead>\n",
       "  <tbody>\n",
       "    <tr>\n",
       "      <th>0</th>\n",
       "      <td>CASH_IN</td>\n",
       "      <td>0.0</td>\n",
       "      <td>1399284</td>\n",
       "    </tr>\n",
       "    <tr>\n",
       "      <th>1</th>\n",
       "      <td>CASH_OUT</td>\n",
       "      <td>0.0</td>\n",
       "      <td>2233384</td>\n",
       "    </tr>\n",
       "    <tr>\n",
       "      <th>2</th>\n",
       "      <td>CASH_OUT</td>\n",
       "      <td>1.0</td>\n",
       "      <td>4116</td>\n",
       "    </tr>\n",
       "    <tr>\n",
       "      <th>3</th>\n",
       "      <td>DEBIT</td>\n",
       "      <td>0.0</td>\n",
       "      <td>41432</td>\n",
       "    </tr>\n",
       "    <tr>\n",
       "      <th>4</th>\n",
       "      <td>PAYMENT</td>\n",
       "      <td>0.0</td>\n",
       "      <td>2151495</td>\n",
       "    </tr>\n",
       "    <tr>\n",
       "      <th>5</th>\n",
       "      <td>TRANSFER</td>\n",
       "      <td>0.0</td>\n",
       "      <td>528812</td>\n",
       "    </tr>\n",
       "    <tr>\n",
       "      <th>6</th>\n",
       "      <td>TRANSFER</td>\n",
       "      <td>1.0</td>\n",
       "      <td>4097</td>\n",
       "    </tr>\n",
       "  </tbody>\n",
       "</table>\n",
       "</div>"
      ],
      "text/plain": [
       "  transaction_type  is_fraud    count\n",
       "0          CASH_IN       0.0  1399284\n",
       "1         CASH_OUT       0.0  2233384\n",
       "2         CASH_OUT       1.0     4116\n",
       "3            DEBIT       0.0    41432\n",
       "4          PAYMENT       0.0  2151495\n",
       "5         TRANSFER       0.0   528812\n",
       "6         TRANSFER       1.0     4097"
      ]
     },
     "execution_count": 41,
     "metadata": {},
     "output_type": "execute_result"
    }
   ],
   "source": [
    "# Group by transaction type, fraud, counting the number of transactions\n",
    "stage_group_trans = {\n",
    "    \"$group\": {\n",
    "        \"_id\": {\n",
    "            \"transaction_type\": \"$type\",\n",
    "            \"is_fraud\": \"$isFraud\"\n",
    "        },\n",
    "        \"count\": {\"$sum\": 1}\n",
    "    }\n",
    "}\n",
    "\n",
    "stage_project = {\n",
    "    \"$project\": {\n",
    "        \"transaction_type\": \"$_id.transaction_type\",\n",
    "        \"is_fraud\": \"$_id.is_fraud\",\n",
    "        \"count\": \"$count\",\n",
    "        \"_id\": 0\n",
    "    }\n",
    "}\n",
    "\n",
    "stage_sort = {\n",
    "    \"$sort\": OrderedDict([(\"transaction_type\", 1), (\"is_fraud\", 1)])\n",
    "}\n",
    "\n",
    "pipeline = [\n",
    "    stage_group_trans,\n",
    "    stage_project,\n",
    "    stage_sort\n",
    "]\n",
    "\n",
    "results = fraud_data.aggregate(pipeline)\n",
    "\n",
    "cursor_df(results)"
   ]
  },
  {
   "cell_type": "markdown",
   "id": "1e9f9f32-040d-4c86-b647-ae82f4b45564",
   "metadata": {},
   "source": [
    "The only transactions that are fraudulent are __CASH_OUT__ and __TRANSFER__ transactions."
   ]
  },
  {
   "cell_type": "markdown",
   "id": "9fdb69c9-d702-4689-aa84-1830cd45185f",
   "metadata": {},
   "source": [
    "### Accounts commiting fraudulent transactions"
   ]
  },
  {
   "cell_type": "code",
   "execution_count": 48,
   "id": "dca814c8-3918-492b-a7bc-cde13cc81013",
   "metadata": {
    "tags": []
   },
   "outputs": [
    {
     "data": {
      "text/plain": [
       "8213"
      ]
     },
     "execution_count": 48,
     "metadata": {},
     "output_type": "execute_result"
    }
   ],
   "source": [
    "# Filter only for transactions that are fraud\n",
    "stage_filter_fraud = {\n",
    "    \"$match\": {\n",
    "        \"isFraud\": {\n",
    "            \"$eq\": 1,\n",
    "        }\n",
    "    }\n",
    "}\n",
    "\n",
    "stage_project = {\n",
    "    \"$project\": {\n",
    "        \"origin_account\": \"$nameOrig\",\n",
    "        \"_id\": 0\n",
    "    }\n",
    "}\n",
    "    \n",
    "pipeline = [\n",
    "    stage_filter_fraud,\n",
    "    stage_project\n",
    "]\n",
    "\n",
    "results = fraud_data.aggregate(pipeline)\n",
    "\n",
    "fraud_accounts = cursor_df(results)[\"origin_account\"].to_list()\n",
    "len(fraud_accounts)"
   ]
  },
  {
   "cell_type": "markdown",
   "id": "a1eb6c7e-56ba-422d-8f75-4c65f4e9e0b4",
   "metadata": {},
   "source": [
    "There are no accounts that commit multiple fraudulent transactions, with there being 8,213 total fraud transactions commited by 8,213 accounts."
   ]
  },
  {
   "cell_type": "markdown",
   "id": "7d82160b-dfd2-4921-86d5-857b51c83d54",
   "metadata": {},
   "source": [
    "### Non-fraud transactions commited by fraudulent agents"
   ]
  },
  {
   "cell_type": "code",
   "execution_count": 51,
   "id": "d02af0d1-c41a-413b-a3c2-ec47252e2120",
   "metadata": {},
   "outputs": [
    {
     "data": {
      "text/plain": [
       "28"
      ]
     },
     "execution_count": 51,
     "metadata": {},
     "output_type": "execute_result"
    }
   ],
   "source": [
    "stage_filter_non_fraud = {\n",
    "    \"$match\": {\n",
    "        \"$and\": [{\n",
    "            \"$or\": [{\"nameOrig\": {\"$in\": fraud_accounts}},\n",
    "                    {\"nameDest\": {\"$in\": fraud_accounts}}]\n",
    "        }, \n",
    "            {\"isFraud\": {\"$eq\": 0}}]\n",
    "    }\n",
    "}\n",
    "    \n",
    "pipeline = [\n",
    "    stage_filter_non_fraud\n",
    "]\n",
    "\n",
    "results = fraud_data.aggregate(pipeline)\n",
    "\n",
    "len(cursor_df(results))"
   ]
  },
  {
   "cell_type": "markdown",
   "id": "afe9e52d-b31e-4787-9583-3f32e3901d52",
   "metadata": {},
   "source": [
    "There are only 28 non-fraudulent transactions that involve an account that commited a fraudulent transaction."
   ]
  }
 ],
 "metadata": {
  "kernelspec": {
   "display_name": "Python 3 (ipykernel)",
   "language": "python",
   "name": "python3"
  },
  "language_info": {
   "codemirror_mode": {
    "name": "ipython",
    "version": 3
   },
   "file_extension": ".py",
   "mimetype": "text/x-python",
   "name": "python",
   "nbconvert_exporter": "python",
   "pygments_lexer": "ipython3",
   "version": "3.10.2"
  }
 },
 "nbformat": 4,
 "nbformat_minor": 5
}
