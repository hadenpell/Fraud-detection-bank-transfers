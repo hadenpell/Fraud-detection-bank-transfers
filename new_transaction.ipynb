{
 "cells": [
  {
   "cell_type": "code",
   "execution_count": 41,
   "id": "4ff0a58d-65ff-4bc4-bfca-604131584c7a",
   "metadata": {},
   "outputs": [],
   "source": [
    "import pymongo\n",
    "import pickle\n",
    "import pandas as pd\n",
    "from ipywidgets import widgets"
   ]
  },
  {
   "cell_type": "markdown",
   "id": "a224538d-6cb4-4bc4-9881-b8bcbedde00d",
   "metadata": {},
   "source": [
    "## Reading in Model from Pickle File"
   ]
  },
  {
   "cell_type": "markdown",
   "id": "20567532-fbe4-44d5-aafb-8aaf3c2d82bb",
   "metadata": {},
   "source": [
    "## Functions to query database"
   ]
  },
  {
   "cell_type": "code",
   "execution_count": 6,
   "id": "32cc30cd-a83d-46d6-8abf-eadd685e28ae",
   "metadata": {},
   "outputs": [],
   "source": [
    "# Create client and load in Fraud database\n",
    "client = pymongo.MongoClient()\n",
    "db = client[\"Fraud\"]\n",
    "fraud_data = db[\"FraudData\"]"
   ]
  },
  {
   "cell_type": "code",
   "execution_count": 7,
   "id": "5ee90c8e-2387-4dd6-bfe4-c3bc3a367e60",
   "metadata": {},
   "outputs": [],
   "source": [
    "def account_exists(account_name: str) -> bool:\n",
    "    \"\"\"\n",
    "    Determine whether the given account exists in the database\n",
    "    \n",
    "    :param account_name: Name of the account in question\n",
    "    :returns: Whether or not account exists in database\n",
    "    \"\"\"\n",
    "    orig_account = fraud_data.find_one({\"nameOrig\": account_name})\n",
    "    dest_account = fraud_data.find_one({\"nameDest\": account_name})\n",
    "    \n",
    "    return orig_account is not None or dest_account is not None"
   ]
  },
  {
   "cell_type": "code",
   "execution_count": 8,
   "id": "68ef6484-3cc7-459d-8d70-5cb3cf9ae1bb",
   "metadata": {},
   "outputs": [],
   "source": [
    "def get_account_balance(account_name: str) -> float:\n",
    "    \"\"\"\n",
    "    Retrieve most recent final account balance for this account\n",
    "    \n",
    "    :param account_name: Name of the account in question\n",
    "    :returns: Most recent account balance\n",
    "    \"\"\"\n",
    "    all_trans = fraud_data.find({\n",
    "        \"$or\": [{\"nameOrig\": account_name}, {\"nameDest\": account_name}]\n",
    "    })\n",
    "    all_trans = list(all_trans)\n",
    "    \n",
    "    # Return None if no prior transactions for this account\n",
    "    if len(all_trans) == 0:\n",
    "        return None\n",
    "    # If account was an origin in most recent transaction, return balance after transaction\n",
    "    elif all_trans[-1][\"nameOrig\"] == account_name:\n",
    "        return all_trans[-1][\"newbalanceOrig\"]\n",
    "    # Account was destination in most recent transaction, return balance after transaction\n",
    "    else:\n",
    "        return all_trans[-1][\"newbalanceDest\"]"
   ]
  },
  {
   "cell_type": "markdown",
   "id": "00997b37-812d-4b80-a7ee-04d08c8eb89f",
   "metadata": {},
   "source": [
    "## Function to predict whether transaction is fraudulent"
   ]
  },
  {
   "cell_type": "code",
   "execution_count": 51,
   "id": "71fc15ce-a5b0-49ea-9839-f91968264bd6",
   "metadata": {},
   "outputs": [],
   "source": [
    "def predict_fraud(trans: dict) -> int:\n",
    "    \"\"\"\n",
    "    Predict whether the given transaction is fraudulent\n",
    "    \n",
    "    :param trans: Transaction to predict\n",
    "    :returns: 1 if fraudulent, 0 if not\n",
    "    \"\"\"\n",
    "    # Load model\n",
    "    filename = 'DTFraudModel'\n",
    "    loaded_model = pickle.load(open(filename, 'rb'))\n",
    "    \n",
    "    # These transactions cannot be fraudulent\n",
    "    if trans[\"type\"] in [\"CASH_IN\", \"DEBIT\", \"PAYMENT\"]:\n",
    "        return 0\n",
    "\n",
    "    features = [1 if trans[\"type\"] == \"TRANSFER\" else 0, trans['amount'],trans['oldbalanceOrg'], \\\n",
    "                trans['newbalanceOrig'], trans['oldbalanceDest'], trans['newbalanceDest']]\n",
    "    \n",
    "    # Try to predict if transactional is fraudulent\n",
    "    try:\n",
    "        return loaded_model.predict([features])\n",
    "    # Features contain a null value\n",
    "    except ValueError:\n",
    "        return 0\n",
    "    \n",
    "      "
   ]
  },
  {
   "cell_type": "markdown",
   "id": "4f9a4b0b-7780-41c5-8960-ef7d1e38b13b",
   "metadata": {},
   "source": [
    "### Function to load transaction into database"
   ]
  },
  {
   "cell_type": "code",
   "execution_count": 44,
   "id": "3c3e3e4a-899c-46b4-884e-403926f26668",
   "metadata": {},
   "outputs": [],
   "source": [
    "def insert_transaction(trans_type: str, amount: float, orig_account_name: str, dest_account_name: str) -> dict:\n",
    "    \"\"\"\n",
    "    Attempt to insert the given transaction into the database, predicting whether it is fraud or not\n",
    "    \n",
    "    :amount float: Transaction amount\n",
    "    :param trans_type: Type of the transaction\n",
    "    :param orig_account_name: Account name of transaction origin\n",
    "    :param dest_account_name: Account name of transaction destination\n",
    "    :returns: Dictionary of transaction detaila\n",
    "    \"\"\"\n",
    "    # Ensure it is a valid transaction type\n",
    "    if trans_type not in [\"CASH_IN\", \"CASH_OUT\", \"DEBIT\", \"PAYMENT\", \"TRANSFER\"]:\n",
    "        raise ValueError(f\"Invalid transaction type: {trans_type}\")\n",
    "    # Ensure it is a valid origin account\n",
    "    if not account_exists(orig_account_name):\n",
    "        raise ValueError(f\"Account non-existent: {orig_account_name}\")\n",
    "    # Ensure it is a valid destination account\n",
    "    if not account_exists(dest_account_name):\n",
    "        raise ValueError(f\"Account non-existent: {dest_account_name}\")\n",
    "    \n",
    "    # Increase account balance if putting cash in\n",
    "    if trans_type == \"CASH_IN\":\n",
    "        amount *= -1\n",
    "    \n",
    "    \n",
    "    old_bal_orig = get_account_balance(orig_account_name)\n",
    "    old_bal_dest = get_account_balance(dest_account_name)\n",
    "    \n",
    "    new_transaction = {'step': 1,\n",
    "                       'type': trans_type,\n",
    "                       'amount': amount,\n",
    "                       'nameOrig': orig_account_name,\n",
    "                       'oldbalanceOrg': old_bal_orig,\n",
    "                       'newbalanceOrig': old_bal_orig - amount if old_bal_orig else None,\n",
    "                       'nameDest': dest_account_name,\n",
    "                       'oldbalanceDest': old_bal_dest,\n",
    "                       'newbalanceDest': old_bal_dest + amount if old_bal_dest else None,\n",
    "                       'isFlaggedFraud': 1 if trans_type in [\"CASH_OUT\", \"TRANSFER\"] and amount >= 200000 else 0}\n",
    "    \n",
    "    # Predict whether transaction is fraudulent\n",
    "    new_transaction[\"isFraud\"] = predict_fraud(new_transaction)\n",
    "    \n",
    "    transaction_id = fraud_data.insert_one(new_transaction)\n",
    "    \n",
    "    return new_transaction"
   ]
  },
  {
   "cell_type": "markdown",
   "id": "d99f010b-469f-4d01-b56d-8fe413f2876b",
   "metadata": {},
   "source": [
    "# Interactive Widgets"
   ]
  },
  {
   "cell_type": "markdown",
   "id": "c286e11f-650a-4e51-9cc6-5be7cf11d425",
   "metadata": {},
   "source": [
    "## Retrieving Account Balance"
   ]
  },
  {
   "cell_type": "code",
   "execution_count": 38,
   "id": "d85f39d3-1f37-43af-96fe-02fd7f9da3f6",
   "metadata": {},
   "outputs": [
    {
     "data": {
      "application/vnd.jupyter.widget-view+json": {
       "model_id": "f4ca92d3751d49e9b01010130cbc10cc",
       "version_major": 2,
       "version_minor": 0
      },
      "text/plain": [
       "Label(value='Account Name:')"
      ]
     },
     "metadata": {},
     "output_type": "display_data"
    },
    {
     "data": {
      "application/vnd.jupyter.widget-view+json": {
       "model_id": "b232fdc5ad644d149f3578c77ca301df",
       "version_major": 2,
       "version_minor": 0
      },
      "text/plain": [
       "Text(value='')"
      ]
     },
     "metadata": {},
     "output_type": "display_data"
    },
    {
     "data": {
      "application/vnd.jupyter.widget-view+json": {
       "model_id": "070e163ea5294ddbb6cad70ba3a37197",
       "version_major": 2,
       "version_minor": 0
      },
      "text/plain": [
       "Button(description='Retrieve Balance', style=ButtonStyle())"
      ]
     },
     "metadata": {},
     "output_type": "display_data"
    },
    {
     "data": {
      "application/vnd.jupyter.widget-view+json": {
       "model_id": "f27e333440894633a31b52b2b1c39e0b",
       "version_major": 2,
       "version_minor": 0
      },
      "text/plain": [
       "Label(value='')"
      ]
     },
     "metadata": {},
     "output_type": "display_data"
    }
   ],
   "source": [
    "# Create the labels, text box, and button\n",
    "account_label = widgets.Label(\"Account Name:\")\n",
    "account_text = widgets.Text()\n",
    "balance_button = widgets.Button(description=\"Retrieve Balance\")\n",
    "balance_label = widgets.Label()\n",
    "\n",
    "# Display widgets\n",
    "display(account_label)\n",
    "display(account_text)\n",
    "display(balance_button)\n",
    "display(balance_label)\n",
    "\n",
    "def update_balance(button: widgets.widget_button.Button) -> None:\n",
    "    \"\"\"\n",
    "    Update the account balance based off the given account\n",
    "    \n",
    "    :param button: Button that was clicked\n",
    "    \"\"\"\n",
    "    # Retrieve account name of entered account\n",
    "    acccount_name = account_text.value\n",
    "    \n",
    "    # Check if the account exists\n",
    "    if account_exists(acccount_name):\n",
    "        # Retrieve balance and set label value as balance\n",
    "        account_balance = get_account_balance(account_text.value)\n",
    "        balance_label.value = f\"ACCOUNT BALANCE: ${account_balance}\"\n",
    "    else:\n",
    "        balance_label.value = f\"ACCOUNT NOT FOUND: {account_text.value}\"\n",
    "\n",
    "# Attach the update balance function to the button\n",
    "balance_button.on_click(update_balance)"
   ]
  },
  {
   "cell_type": "markdown",
   "id": "f6d16855-f430-48eb-8076-a1f558d115bd",
   "metadata": {},
   "source": [
    "## Inserting New Transaction"
   ]
  },
  {
   "cell_type": "code",
   "execution_count": 40,
   "id": "5173e0b2-098b-47cf-957a-7e6217cc8248",
   "metadata": {},
   "outputs": [
    {
     "data": {
      "application/vnd.jupyter.widget-view+json": {
       "model_id": "f91f4dfd2c074859a32c005f40c5bace",
       "version_major": 2,
       "version_minor": 0
      },
      "text/plain": [
       "Label(value='Origin Account Name:')"
      ]
     },
     "metadata": {},
     "output_type": "display_data"
    },
    {
     "data": {
      "application/vnd.jupyter.widget-view+json": {
       "model_id": "efacc00713c14bc8a2b5f4b44164c008",
       "version_major": 2,
       "version_minor": 0
      },
      "text/plain": [
       "Text(value='')"
      ]
     },
     "metadata": {},
     "output_type": "display_data"
    },
    {
     "data": {
      "application/vnd.jupyter.widget-view+json": {
       "model_id": "c0d2f6877f2a4ff39f90aafc456543cd",
       "version_major": 2,
       "version_minor": 0
      },
      "text/plain": [
       "Label(value='Destination Account Name:')"
      ]
     },
     "metadata": {},
     "output_type": "display_data"
    },
    {
     "data": {
      "application/vnd.jupyter.widget-view+json": {
       "model_id": "ea4e0b4a17cc4d2e8a5979d8fd093e5f",
       "version_major": 2,
       "version_minor": 0
      },
      "text/plain": [
       "Text(value='')"
      ]
     },
     "metadata": {},
     "output_type": "display_data"
    },
    {
     "data": {
      "application/vnd.jupyter.widget-view+json": {
       "model_id": "0312de0b25874fa197d20cd1a9cac030",
       "version_major": 2,
       "version_minor": 0
      },
      "text/plain": [
       "Label(value='Transaction Type:')"
      ]
     },
     "metadata": {},
     "output_type": "display_data"
    },
    {
     "data": {
      "application/vnd.jupyter.widget-view+json": {
       "model_id": "6c1c0615de5e4682973bbb59fe0152f1",
       "version_major": 2,
       "version_minor": 0
      },
      "text/plain": [
       "Dropdown(options=(('Transfer', 'TRANSFER'), ('Payment', 'PAYMENT'), ('Debit', 'DEBIT'), ('Cash-Out', 'CASH_OUT…"
      ]
     },
     "metadata": {},
     "output_type": "display_data"
    },
    {
     "data": {
      "application/vnd.jupyter.widget-view+json": {
       "model_id": "c914fbc3019f44f69436ca6038ceefa4",
       "version_major": 2,
       "version_minor": 0
      },
      "text/plain": [
       "Label(value='Amount:')"
      ]
     },
     "metadata": {},
     "output_type": "display_data"
    },
    {
     "data": {
      "application/vnd.jupyter.widget-view+json": {
       "model_id": "3bff8c907a43477b8787aad571d5c481",
       "version_major": 2,
       "version_minor": 0
      },
      "text/plain": [
       "BoundedFloatText(value=0.0, description='$', max=1000000.0)"
      ]
     },
     "metadata": {},
     "output_type": "display_data"
    },
    {
     "data": {
      "application/vnd.jupyter.widget-view+json": {
       "model_id": "2e6f9581a4a444ae9606c7a5c78b7554",
       "version_major": 2,
       "version_minor": 0
      },
      "text/plain": [
       "Button(description='Confirm Transaction', style=ButtonStyle())"
      ]
     },
     "metadata": {},
     "output_type": "display_data"
    },
    {
     "data": {
      "application/vnd.jupyter.widget-view+json": {
       "model_id": "2fe65bd1796a413b8b5d4aa5484af239",
       "version_major": 2,
       "version_minor": 0
      },
      "text/plain": [
       "Label(value='')"
      ]
     },
     "metadata": {},
     "output_type": "display_data"
    }
   ],
   "source": [
    "# Create the labels, text boxes, and button\n",
    "orig_account_label = widgets.Label(\"Origin Account Name:\")\n",
    "orig_account_text = widgets.Text()\n",
    "dest_account_label = widgets.Label(\"Destination Account Name:\")\n",
    "dest_account_text = widgets.Text()\n",
    "trans_type_label = widgets.Label(\"Transaction Type:\")\n",
    "trans_type_dropdown = widgets.Dropdown(options=[(\"Transfer\", \"TRANSFER\"),\n",
    "                                               (\"Payment\", \"PAYMENT\"),\n",
    "                                               (\"Debit\", \"DEBIT\"),\n",
    "                                               (\"Cash-Out\", \"CASH_OUT\"),\n",
    "                                               (\"Cash-In\", \"CASH_IN\")])\n",
    "amount_label = widgets.Label(\"Amount:\")\n",
    "amount_input = widgets.BoundedFloatText(description=\"$\", min=0, max=1000000)\n",
    "trans_button = widgets.Button(description=\"Confirm Transaction\")\n",
    "trans_status = widgets.Label()\n",
    "\n",
    "# Display widgets\n",
    "display(orig_account_label)\n",
    "display(orig_account_text)\n",
    "display(dest_account_label)\n",
    "display(dest_account_text)\n",
    "display(trans_type_label)\n",
    "display(trans_type_dropdown)\n",
    "display(amount_label)\n",
    "display(amount_input)\n",
    "display(trans_button)\n",
    "display(trans_status)\n",
    "\n",
    "def update_trans(button: widgets.widget_button.Button) -> None:\n",
    "    \"\"\"\n",
    "    Insert the transaction into database if both account exists, calculating fraud %\n",
    "    \n",
    "    :param button: Button that was clicked\n",
    "    \"\"\"\n",
    "    if not account_exists(orig_account_text.value):\n",
    "        trans_status.value = f\"ACCOUNT NOT FOUND: {orig_account_text.value}\"\n",
    "    elif not account_exists(dest_account_text.value):\n",
    "        trans_status.value = f\"ACCOUNT NOT FOUND: {dest_account_text.value}\"\n",
    "    \n",
    "    trans = insert_transaction(trans_type_dropdown.value, \n",
    "                               amount_input.value, \n",
    "                               orig_account_text.value, \n",
    "                               dest_account_text.value)\n",
    "    fraud_per = trans[\"isFraud\"]*100\n",
    "    \n",
    "    trans_status.value = f\"TRANSACTION CONFIRMED ({fraud_per}% Fraud)\"\n",
    "        \n",
    "    \n",
    "\n",
    "# Attach the update balance function to the button\n",
    "trans_button.on_click(update_trans)"
   ]
  },
  {
   "cell_type": "code",
   "execution_count": null,
   "id": "15ca9b59-efec-4a39-9dd6-8cade66119af",
   "metadata": {},
   "outputs": [],
   "source": []
  }
 ],
 "metadata": {
  "kernelspec": {
   "display_name": "Python 3 (ipykernel)",
   "language": "python",
   "name": "python3"
  },
  "language_info": {
   "codemirror_mode": {
    "name": "ipython",
    "version": 3
   },
   "file_extension": ".py",
   "mimetype": "text/x-python",
   "name": "python",
   "nbconvert_exporter": "python",
   "pygments_lexer": "ipython3",
   "version": "3.8.1"
  }
 },
 "nbformat": 4,
 "nbformat_minor": 5
}
